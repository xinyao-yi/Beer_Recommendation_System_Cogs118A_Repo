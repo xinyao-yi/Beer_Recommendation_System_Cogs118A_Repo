{
 "cells": [
  {
   "cell_type": "markdown",
   "id": "64323303",
   "metadata": {},
   "source": [
    "# Cogs 118a Final Project: What kind of Beer should you try?"
   ]
  },
  {
   "cell_type": "markdown",
   "id": "132393c8",
   "metadata": {},
   "source": [
    "# Group Members\n",
    "\n",
    "- George Liu, A15836054\n",
    "- Xinyao Yi, A59019592\n",
    "- Yingnan Yang, A16018172"
   ]
  },
  {
   "cell_type": "markdown",
   "id": "7b1fe929",
   "metadata": {},
   "source": [
    "### TODO List:\n",
    "- baseline model of someone else's work (add a reference)\n",
    "- more visualizations?\n",
    "- add one more point in discussion of results\n",
    "- conclusion\n"
   ]
  },
  {
   "cell_type": "markdown",
   "id": "4a6643c6",
   "metadata": {},
   "source": [
    "# Abstract\n",
    "For adults, beer is one of the most highly consumed beverages; wouldn't you want to find a beer that is best for you? In order to do this, we want to examine how people rate beers. This includes things such as alcohol percentage, smell, and taste. Our goal is to build a model that predicts the ratings of beer given these attributes/features, extend the model to also recommend beers based upon your own preferences to these features.\n",
    "\n",
    "Once we filter our dataset with the necessary features, we will train a baseline linear regression model and then a more complex fully connected neural network to see how it performs, using metrics such as RMSE, MAE, and R2 correlation coefficient. These metrics will help us determine the best model, and in turn allow us to recommend the best beer for you."
   ]
  },
  {
   "cell_type": "markdown",
   "id": "695b25b3",
   "metadata": {},
   "source": [
    "# Background\n",
    "Our research problem is pretty unique in that researches don’t look into a topic like this. Mostly, this is because this topic is not super important to globalization and technological improvements. There are some works that are similar in topic, but none are academic. \n",
    "\n",
    "One way people use this dataset is to research the types of preferences people have in beer, things like how much foam a person wants, how much alcohol percentage is in the drink, etc. This mostly is used for improving the sales of beer and crafting the best drink. <sup>[1](#preferences)</sup>\n",
    "\n",
    "Others have used beer reviews as a way for classification, being easily able to classify a beer into some categories for ease and also increases sales. <sup>[2](#classification)</sup>\n",
    "\n",
    "A similar drink to beer is wine, and they are experimenting with computer vision to find when the optimal time is to use the ingredients, aka harvesting the grapes. A similar application can be used on barley, the ingredient to make beer. <sup>[3](#beer)</sup>"
   ]
  },
  {
   "cell_type": "markdown",
   "id": "3e3c0ee7",
   "metadata": {},
   "source": [
    "# Problem Statement/Research Problem\n",
    "We aim to suggest the best beer for you based upon common beer preferences; things such as alcohol level, appearence, bitterness, etc. In the process of doing this, we will also aim to predict ratings on a scale 1-5, based upon these preferences; which can be replicated through our model architecture (there is no randomness). This problem is both quantifiable (as our predicted ratings we can get a definite number), and also measurable, through our error metrics that we present below."
   ]
  },
  {
   "cell_type": "markdown",
   "id": "39ab7345",
   "metadata": {},
   "source": [
    "# Dataset\n",
    "\n",
    "https://www.kaggle.com/datasets/rdoume/beerreviews\n",
    "This dataset can be found above at the link provided. It around 1.5 million beer reviews, and 13 total features. Each sample will consist of something similar to the name of the drink, a few columns representing the preferences of beers like alcohol level, and then the overall review rating. For our data, we need preprocess by filtering out useless columns and also selecting columns that can easily fit into our neural network architecture (for example getting columns that are integers/floats). Additionally, we will also have to one hot encode features that are important but categorical variables, for instance beer style. We also should drop any sample that is empty in the columns that we find useful.\n",
    "\n",
    "To create our training set and test set, we need to first extract the overall rating score from the dataset as our y values (labels). Then, we extract all the columns that we find important and use that as our X. Then we can use test_train split to get the necessary proportions for our model to be generalizable. We can also split into a validation set, because we have so much data. Something to note is that our labels (y) are on a scale from 1-5, with increments of 0.5. This will affect our model selection later.\n",
    "\n",
    "Below, you will be able to see all the steps we took to accomplish what we explained above to preprocess our dataset."
   ]
  },
  {
   "cell_type": "code",
   "execution_count": 1,
   "id": "44eb03d7",
   "metadata": {},
   "outputs": [
    {
     "name": "stderr",
     "output_type": "stream",
     "text": [
      "2023-03-15 21:02:21.387135: I tensorflow/core/platform/cpu_feature_guard.cc:193] This TensorFlow binary is optimized with oneAPI Deep Neural Network Library (oneDNN) to use the following CPU instructions in performance-critical operations:  AVX2 FMA\n",
      "To enable them in other operations, rebuild TensorFlow with the appropriate compiler flags.\n",
      "2023-03-15 21:02:21.609282: W tensorflow/compiler/xla/stream_executor/platform/default/dso_loader.cc:64] Could not load dynamic library 'libcudart.so.11.0'; dlerror: libcudart.so.11.0: cannot open shared object file: No such file or directory\n",
      "2023-03-15 21:02:21.609324: I tensorflow/compiler/xla/stream_executor/cuda/cudart_stub.cc:29] Ignore above cudart dlerror if you do not have a GPU set up on your machine.\n",
      "2023-03-15 21:02:23.255601: W tensorflow/compiler/xla/stream_executor/platform/default/dso_loader.cc:64] Could not load dynamic library 'libnvinfer.so.7'; dlerror: libnvinfer.so.7: cannot open shared object file: No such file or directory\n",
      "2023-03-15 21:02:23.255740: W tensorflow/compiler/xla/stream_executor/platform/default/dso_loader.cc:64] Could not load dynamic library 'libnvinfer_plugin.so.7'; dlerror: libnvinfer_plugin.so.7: cannot open shared object file: No such file or directory\n",
      "2023-03-15 21:02:23.255755: W tensorflow/compiler/tf2tensorrt/utils/py_utils.cc:38] TF-TRT Warning: Cannot dlopen some TensorRT libraries. If you would like to use Nvidia GPU with TensorRT, please make sure the missing libraries mentioned above are installed properly.\n"
     ]
    }
   ],
   "source": [
    "import warnings\n",
    "warnings.filterwarnings('ignore')\n",
    "from sklearn.model_selection import train_test_split\n",
    "import pandas as pd\n",
    "import numpy as np\n",
    "import matplotlib.pyplot as plt\n",
    "from sklearn.tree import plot_tree\n",
    "import seaborn as sns\n",
    "from tensorflow.keras.models import load_model\n",
    "from sklearn.tree import DecisionTreeRegressor, plot_tree\n",
    "from sklearn.metrics import mean_absolute_error, mean_squared_error, r2_score\n",
    "from sklearn.model_selection import RandomizedSearchCV\n",
    "from scipy.stats import randint"
   ]
  },
  {
   "cell_type": "code",
   "execution_count": 2,
   "id": "1feedef6",
   "metadata": {},
   "outputs": [],
   "source": [
    "df = pd.read_csv('beer_reviews.csv')"
   ]
  },
  {
   "cell_type": "code",
   "execution_count": 3,
   "id": "643e6076",
   "metadata": {},
   "outputs": [],
   "source": [
    "df = df.dropna()"
   ]
  },
  {
   "cell_type": "code",
   "execution_count": 4,
   "id": "5e5a1b39",
   "metadata": {},
   "outputs": [
    {
     "data": {
      "text/html": [
       "<div>\n",
       "<style scoped>\n",
       "    .dataframe tbody tr th:only-of-type {\n",
       "        vertical-align: middle;\n",
       "    }\n",
       "\n",
       "    .dataframe tbody tr th {\n",
       "        vertical-align: top;\n",
       "    }\n",
       "\n",
       "    .dataframe thead th {\n",
       "        text-align: right;\n",
       "    }\n",
       "</style>\n",
       "<table border=\"1\" class=\"dataframe\">\n",
       "  <thead>\n",
       "    <tr style=\"text-align: right;\">\n",
       "      <th></th>\n",
       "      <th>brewery_id</th>\n",
       "      <th>brewery_name</th>\n",
       "      <th>review_time</th>\n",
       "      <th>review_overall</th>\n",
       "      <th>review_aroma</th>\n",
       "      <th>review_appearance</th>\n",
       "      <th>review_profilename</th>\n",
       "      <th>beer_style</th>\n",
       "      <th>review_palate</th>\n",
       "      <th>review_taste</th>\n",
       "      <th>beer_name</th>\n",
       "      <th>beer_abv</th>\n",
       "      <th>beer_beerid</th>\n",
       "    </tr>\n",
       "  </thead>\n",
       "  <tbody>\n",
       "    <tr>\n",
       "      <th>0</th>\n",
       "      <td>10325</td>\n",
       "      <td>Vecchio Birraio</td>\n",
       "      <td>1234817823</td>\n",
       "      <td>1.5</td>\n",
       "      <td>2.0</td>\n",
       "      <td>2.5</td>\n",
       "      <td>stcules</td>\n",
       "      <td>Hefeweizen</td>\n",
       "      <td>1.5</td>\n",
       "      <td>1.5</td>\n",
       "      <td>Sausa Weizen</td>\n",
       "      <td>5.0</td>\n",
       "      <td>47986</td>\n",
       "    </tr>\n",
       "    <tr>\n",
       "      <th>1</th>\n",
       "      <td>10325</td>\n",
       "      <td>Vecchio Birraio</td>\n",
       "      <td>1235915097</td>\n",
       "      <td>3.0</td>\n",
       "      <td>2.5</td>\n",
       "      <td>3.0</td>\n",
       "      <td>stcules</td>\n",
       "      <td>English Strong Ale</td>\n",
       "      <td>3.0</td>\n",
       "      <td>3.0</td>\n",
       "      <td>Red Moon</td>\n",
       "      <td>6.2</td>\n",
       "      <td>48213</td>\n",
       "    </tr>\n",
       "    <tr>\n",
       "      <th>2</th>\n",
       "      <td>10325</td>\n",
       "      <td>Vecchio Birraio</td>\n",
       "      <td>1235916604</td>\n",
       "      <td>3.0</td>\n",
       "      <td>2.5</td>\n",
       "      <td>3.0</td>\n",
       "      <td>stcules</td>\n",
       "      <td>Foreign / Export Stout</td>\n",
       "      <td>3.0</td>\n",
       "      <td>3.0</td>\n",
       "      <td>Black Horse Black Beer</td>\n",
       "      <td>6.5</td>\n",
       "      <td>48215</td>\n",
       "    </tr>\n",
       "    <tr>\n",
       "      <th>3</th>\n",
       "      <td>10325</td>\n",
       "      <td>Vecchio Birraio</td>\n",
       "      <td>1234725145</td>\n",
       "      <td>3.0</td>\n",
       "      <td>3.0</td>\n",
       "      <td>3.5</td>\n",
       "      <td>stcules</td>\n",
       "      <td>German Pilsener</td>\n",
       "      <td>2.5</td>\n",
       "      <td>3.0</td>\n",
       "      <td>Sausa Pils</td>\n",
       "      <td>5.0</td>\n",
       "      <td>47969</td>\n",
       "    </tr>\n",
       "    <tr>\n",
       "      <th>4</th>\n",
       "      <td>1075</td>\n",
       "      <td>Caldera Brewing Company</td>\n",
       "      <td>1293735206</td>\n",
       "      <td>4.0</td>\n",
       "      <td>4.5</td>\n",
       "      <td>4.0</td>\n",
       "      <td>johnmichaelsen</td>\n",
       "      <td>American Double / Imperial IPA</td>\n",
       "      <td>4.0</td>\n",
       "      <td>4.5</td>\n",
       "      <td>Cauldron DIPA</td>\n",
       "      <td>7.7</td>\n",
       "      <td>64883</td>\n",
       "    </tr>\n",
       "  </tbody>\n",
       "</table>\n",
       "</div>"
      ],
      "text/plain": [
       "   brewery_id             brewery_name  review_time  review_overall  \\\n",
       "0       10325          Vecchio Birraio   1234817823             1.5   \n",
       "1       10325          Vecchio Birraio   1235915097             3.0   \n",
       "2       10325          Vecchio Birraio   1235916604             3.0   \n",
       "3       10325          Vecchio Birraio   1234725145             3.0   \n",
       "4        1075  Caldera Brewing Company   1293735206             4.0   \n",
       "\n",
       "   review_aroma  review_appearance review_profilename  \\\n",
       "0           2.0                2.5            stcules   \n",
       "1           2.5                3.0            stcules   \n",
       "2           2.5                3.0            stcules   \n",
       "3           3.0                3.5            stcules   \n",
       "4           4.5                4.0     johnmichaelsen   \n",
       "\n",
       "                       beer_style  review_palate  review_taste  \\\n",
       "0                      Hefeweizen            1.5           1.5   \n",
       "1              English Strong Ale            3.0           3.0   \n",
       "2          Foreign / Export Stout            3.0           3.0   \n",
       "3                 German Pilsener            2.5           3.0   \n",
       "4  American Double / Imperial IPA            4.0           4.5   \n",
       "\n",
       "                beer_name  beer_abv  beer_beerid  \n",
       "0            Sausa Weizen       5.0        47986  \n",
       "1                Red Moon       6.2        48213  \n",
       "2  Black Horse Black Beer       6.5        48215  \n",
       "3              Sausa Pils       5.0        47969  \n",
       "4           Cauldron DIPA       7.7        64883  "
      ]
     },
     "execution_count": 4,
     "metadata": {},
     "output_type": "execute_result"
    }
   ],
   "source": [
    "df.head()"
   ]
  },
  {
   "cell_type": "markdown",
   "id": "9f450861",
   "metadata": {},
   "source": [
    "##### Some EDA to understand our data better"
   ]
  },
  {
   "cell_type": "markdown",
   "id": "a880592e",
   "metadata": {},
   "source": [
    "Creating a beer dictionary to pull up the names later.\n"
   ]
  },
  {
   "cell_type": "code",
   "execution_count": 5,
   "id": "bb22eff5",
   "metadata": {},
   "outputs": [],
   "source": [
    "beer_dict = dict(zip(df['beer_beerid'],df['beer_name']))"
   ]
  },
  {
   "cell_type": "markdown",
   "id": "18c45d93",
   "metadata": {},
   "source": [
    "Getting the true review score"
   ]
  },
  {
   "cell_type": "code",
   "execution_count": 6,
   "id": "f23cdbf9",
   "metadata": {},
   "outputs": [],
   "source": [
    "y = df.loc[:, 'review_overall']"
   ]
  },
  {
   "cell_type": "markdown",
   "id": "db7bd6e6",
   "metadata": {},
   "source": [
    "We can see that all the labels are on a scale of 1-5, incrementing by 0.5."
   ]
  },
  {
   "cell_type": "code",
   "execution_count": 7,
   "id": "b33a54e7",
   "metadata": {},
   "outputs": [
    {
     "data": {
      "text/plain": [
       "array([0. , 1. , 1.5, 2. , 2.5, 3. , 3.5, 4. , 4.5, 5. ])"
      ]
     },
     "execution_count": 7,
     "metadata": {},
     "output_type": "execute_result"
    }
   ],
   "source": [
    "np.unique(y)"
   ]
  },
  {
   "cell_type": "markdown",
   "id": "a2769e5f",
   "metadata": {},
   "source": [
    "##### Checking for Bias"
   ]
  },
  {
   "cell_type": "markdown",
   "id": "65d2f1ec",
   "metadata": {},
   "source": [
    "Here, we check if there are any biases in the beer style in the market."
   ]
  },
  {
   "cell_type": "code",
   "execution_count": 8,
   "id": "c2a7df1e",
   "metadata": {},
   "outputs": [
    {
     "data": {
      "image/png": "[encoded data removed]",
      "text/plain": [
       "<Figure size 432x288 with 1 Axes>"
      ]
     },
     "metadata": {
      "needs_background": "light"
     },
     "output_type": "display_data"
    }
   ],
   "source": [
    "ax = sns.countplot(x=df['beer_style'], data=df)\n",
    "ax.set(xticklabels=[])\n",
    "plt.show()"
   ]
  },
  {
   "cell_type": "markdown",
   "id": "325b00a3",
   "metadata": {},
   "source": [
    "We can see there are many beer styles in our dataset, but a few of them are outliers; they are reviewed way more than other beers."
   ]
  },
  {
   "cell_type": "markdown",
   "id": "dd2a2887",
   "metadata": {},
   "source": [
    "Here, we check if there are any biases in our review."
   ]
  },
  {
   "cell_type": "code",
   "execution_count": 9,
   "id": "0db50815",
   "metadata": {},
   "outputs": [
    {
     "data": {
      "text/plain": [
       "<AxesSubplot:xlabel='review_overall', ylabel='count'>"
      ]
     },
     "execution_count": 9,
     "metadata": {},
     "output_type": "execute_result"
    },
    {
     "data": {
      "image/png": "[encoded data removed]",
      "text/plain": [
       "<Figure size 432x288 with 1 Axes>"
      ]
     },
     "metadata": {
      "needs_background": "light"
     },
     "output_type": "display_data"
    }
   ],
   "source": [
    "sns.countplot(x=df['review_overall'],data=df)"
   ]
  },
  {
   "cell_type": "markdown",
   "id": "b24a875a",
   "metadata": {},
   "source": [
    "We can see our data is really skewed, most of the reviews are 4.0,4.5."
   ]
  },
  {
   "cell_type": "code",
   "execution_count": 10,
   "id": "1b06afa1",
   "metadata": {},
   "outputs": [],
   "source": [
    "df = df.drop(['brewery_id','brewery_name','review_time','review_profilename', 'beer_name','review_overall'],axis=1)"
   ]
  },
  {
   "cell_type": "markdown",
   "id": "14c13abb",
   "metadata": {},
   "source": [
    "Let's see if there are any correlation between our features, this may impact our model selection."
   ]
  },
  {
   "cell_type": "code",
   "execution_count": 11,
   "id": "02bd83b8",
   "metadata": {},
   "outputs": [
    {
     "data": {
      "text/plain": [
       "<AxesSubplot:>"
      ]
     },
     "execution_count": 11,
     "metadata": {},
     "output_type": "execute_result"
    },
    {
     "data": {
      "image/png": "[encoded data removed]",
      "text/plain": [
       "<Figure size 432x288 with 2 Axes>"
      ]
     },
     "metadata": {
      "needs_background": "light"
     },
     "output_type": "display_data"
    }
   ],
   "source": [
    "sns.heatmap(df.corr(), annot=True)"
   ]
  },
  {
   "cell_type": "markdown",
   "id": "ddb4ef95",
   "metadata": {},
   "source": [
    "As we can see from our features, there are a few features that seem to be correlated; mostly all the reviews. This makes sense to us, since we know that these reviews are mostly what is making up the actual rating. However, because of this, we need to account for possible multicollinearity in model selection."
   ]
  },
  {
   "cell_type": "markdown",
   "id": "48b44bc9",
   "metadata": {},
   "source": [
    "We want beer style to affect the rating, so we need to one hot encode it since it is a categorical variable"
   ]
  },
  {
   "cell_type": "code",
   "execution_count": 12,
   "id": "5279a21f",
   "metadata": {},
   "outputs": [],
   "source": [
    "one_hot = pd.get_dummies(df['beer_style'])\n",
    "df = pd.concat([df, one_hot], axis=1)\n",
    "X = df.drop('beer_style', axis=1)"
   ]
  },
  {
   "cell_type": "markdown",
   "id": "b5423eb0",
   "metadata": {},
   "source": [
    "Looking at key for one hot:"
   ]
  },
  {
   "cell_type": "code",
   "execution_count": 13,
   "id": "bc766d73",
   "metadata": {},
   "outputs": [
    {
     "data": {
      "text/plain": [
       "['Altbier',\n",
       " 'American Adjunct Lager',\n",
       " 'American Amber / Red Ale',\n",
       " 'American Amber / Red Lager',\n",
       " 'American Barleywine']"
      ]
     },
     "execution_count": 13,
     "metadata": {},
     "output_type": "execute_result"
    }
   ],
   "source": [
    "one_hot = one_hot.columns.tolist()\n",
    "one_hot[:5]"
   ]
  },
  {
   "cell_type": "code",
   "execution_count": 14,
   "id": "59326402",
   "metadata": {},
   "outputs": [
    {
     "data": {
      "text/html": [
       "<div>\n",
       "<style scoped>\n",
       "    .dataframe tbody tr th:only-of-type {\n",
       "        vertical-align: middle;\n",
       "    }\n",
       "\n",
       "    .dataframe tbody tr th {\n",
       "        vertical-align: top;\n",
       "    }\n",
       "\n",
       "    .dataframe thead th {\n",
       "        text-align: right;\n",
       "    }\n",
       "</style>\n",
       "<table border=\"1\" class=\"dataframe\">\n",
       "  <thead>\n",
       "    <tr style=\"text-align: right;\">\n",
       "      <th></th>\n",
       "      <th>review_aroma</th>\n",
       "      <th>review_appearance</th>\n",
       "      <th>review_palate</th>\n",
       "      <th>review_taste</th>\n",
       "      <th>beer_abv</th>\n",
       "      <th>beer_beerid</th>\n",
       "      <th>Altbier</th>\n",
       "      <th>American Adjunct Lager</th>\n",
       "      <th>American Amber / Red Ale</th>\n",
       "      <th>American Amber / Red Lager</th>\n",
       "      <th>...</th>\n",
       "      <th>Scotch Ale / Wee Heavy</th>\n",
       "      <th>Scottish Ale</th>\n",
       "      <th>Scottish Gruit / Ancient Herbed Ale</th>\n",
       "      <th>Smoked Beer</th>\n",
       "      <th>Tripel</th>\n",
       "      <th>Vienna Lager</th>\n",
       "      <th>Weizenbock</th>\n",
       "      <th>Wheatwine</th>\n",
       "      <th>Winter Warmer</th>\n",
       "      <th>Witbier</th>\n",
       "    </tr>\n",
       "  </thead>\n",
       "  <tbody>\n",
       "    <tr>\n",
       "      <th>0</th>\n",
       "      <td>2.0</td>\n",
       "      <td>2.5</td>\n",
       "      <td>1.5</td>\n",
       "      <td>1.5</td>\n",
       "      <td>5.0</td>\n",
       "      <td>47986</td>\n",
       "      <td>0</td>\n",
       "      <td>0</td>\n",
       "      <td>0</td>\n",
       "      <td>0</td>\n",
       "      <td>...</td>\n",
       "      <td>0</td>\n",
       "      <td>0</td>\n",
       "      <td>0</td>\n",
       "      <td>0</td>\n",
       "      <td>0</td>\n",
       "      <td>0</td>\n",
       "      <td>0</td>\n",
       "      <td>0</td>\n",
       "      <td>0</td>\n",
       "      <td>0</td>\n",
       "    </tr>\n",
       "    <tr>\n",
       "      <th>1</th>\n",
       "      <td>2.5</td>\n",
       "      <td>3.0</td>\n",
       "      <td>3.0</td>\n",
       "      <td>3.0</td>\n",
       "      <td>6.2</td>\n",
       "      <td>48213</td>\n",
       "      <td>0</td>\n",
       "      <td>0</td>\n",
       "      <td>0</td>\n",
       "      <td>0</td>\n",
       "      <td>...</td>\n",
       "      <td>0</td>\n",
       "      <td>0</td>\n",
       "      <td>0</td>\n",
       "      <td>0</td>\n",
       "      <td>0</td>\n",
       "      <td>0</td>\n",
       "      <td>0</td>\n",
       "      <td>0</td>\n",
       "      <td>0</td>\n",
       "      <td>0</td>\n",
       "    </tr>\n",
       "    <tr>\n",
       "      <th>2</th>\n",
       "      <td>2.5</td>\n",
       "      <td>3.0</td>\n",
       "      <td>3.0</td>\n",
       "      <td>3.0</td>\n",
       "      <td>6.5</td>\n",
       "      <td>48215</td>\n",
       "      <td>0</td>\n",
       "      <td>0</td>\n",
       "      <td>0</td>\n",
       "      <td>0</td>\n",
       "      <td>...</td>\n",
       "      <td>0</td>\n",
       "      <td>0</td>\n",
       "      <td>0</td>\n",
       "      <td>0</td>\n",
       "      <td>0</td>\n",
       "      <td>0</td>\n",
       "      <td>0</td>\n",
       "      <td>0</td>\n",
       "      <td>0</td>\n",
       "      <td>0</td>\n",
       "    </tr>\n",
       "    <tr>\n",
       "      <th>3</th>\n",
       "      <td>3.0</td>\n",
       "      <td>3.5</td>\n",
       "      <td>2.5</td>\n",
       "      <td>3.0</td>\n",
       "      <td>5.0</td>\n",
       "      <td>47969</td>\n",
       "      <td>0</td>\n",
       "      <td>0</td>\n",
       "      <td>0</td>\n",
       "      <td>0</td>\n",
       "      <td>...</td>\n",
       "      <td>0</td>\n",
       "      <td>0</td>\n",
       "      <td>0</td>\n",
       "      <td>0</td>\n",
       "      <td>0</td>\n",
       "      <td>0</td>\n",
       "      <td>0</td>\n",
       "      <td>0</td>\n",
       "      <td>0</td>\n",
       "      <td>0</td>\n",
       "    </tr>\n",
       "    <tr>\n",
       "      <th>4</th>\n",
       "      <td>4.5</td>\n",
       "      <td>4.0</td>\n",
       "      <td>4.0</td>\n",
       "      <td>4.5</td>\n",
       "      <td>7.7</td>\n",
       "      <td>64883</td>\n",
       "      <td>0</td>\n",
       "      <td>0</td>\n",
       "      <td>0</td>\n",
       "      <td>0</td>\n",
       "      <td>...</td>\n",
       "      <td>0</td>\n",
       "      <td>0</td>\n",
       "      <td>0</td>\n",
       "      <td>0</td>\n",
       "      <td>0</td>\n",
       "      <td>0</td>\n",
       "      <td>0</td>\n",
       "      <td>0</td>\n",
       "      <td>0</td>\n",
       "      <td>0</td>\n",
       "    </tr>\n",
       "  </tbody>\n",
       "</table>\n",
       "<p>5 rows × 110 columns</p>\n",
       "</div>"
      ],
      "text/plain": [
       "   review_aroma  review_appearance  review_palate  review_taste  beer_abv  \\\n",
       "0           2.0                2.5            1.5           1.5       5.0   \n",
       "1           2.5                3.0            3.0           3.0       6.2   \n",
       "2           2.5                3.0            3.0           3.0       6.5   \n",
       "3           3.0                3.5            2.5           3.0       5.0   \n",
       "4           4.5                4.0            4.0           4.5       7.7   \n",
       "\n",
       "   beer_beerid  Altbier  American Adjunct Lager  American Amber / Red Ale  \\\n",
       "0        47986        0                       0                         0   \n",
       "1        48213        0                       0                         0   \n",
       "2        48215        0                       0                         0   \n",
       "3        47969        0                       0                         0   \n",
       "4        64883        0                       0                         0   \n",
       "\n",
       "   American Amber / Red Lager  ...  Scotch Ale / Wee Heavy  Scottish Ale  \\\n",
       "0                           0  ...                       0             0   \n",
       "1                           0  ...                       0             0   \n",
       "2                           0  ...                       0             0   \n",
       "3                           0  ...                       0             0   \n",
       "4                           0  ...                       0             0   \n",
       "\n",
       "   Scottish Gruit / Ancient Herbed Ale  Smoked Beer  Tripel  Vienna Lager  \\\n",
       "0                                    0            0       0             0   \n",
       "1                                    0            0       0             0   \n",
       "2                                    0            0       0             0   \n",
       "3                                    0            0       0             0   \n",
       "4                                    0            0       0             0   \n",
       "\n",
       "   Weizenbock  Wheatwine  Winter Warmer  Witbier  \n",
       "0           0          0              0        0  \n",
       "1           0          0              0        0  \n",
       "2           0          0              0        0  \n",
       "3           0          0              0        0  \n",
       "4           0          0              0        0  \n",
       "\n",
       "[5 rows x 110 columns]"
      ]
     },
     "execution_count": 14,
     "metadata": {},
     "output_type": "execute_result"
    }
   ],
   "source": [
    "X.head()"
   ]
  },
  {
   "cell_type": "code",
   "execution_count": 15,
   "id": "62df54b3",
   "metadata": {},
   "outputs": [
    {
     "data": {
      "text/plain": [
       "review_aroma         float64\n",
       "review_appearance    float64\n",
       "review_palate        float64\n",
       "review_taste         float64\n",
       "beer_abv             float64\n",
       "                      ...   \n",
       "Vienna Lager           uint8\n",
       "Weizenbock             uint8\n",
       "Wheatwine              uint8\n",
       "Winter Warmer          uint8\n",
       "Witbier                uint8\n",
       "Length: 110, dtype: object"
      ]
     },
     "execution_count": 15,
     "metadata": {},
     "output_type": "execute_result"
    }
   ],
   "source": [
    "X.dtypes"
   ]
  },
  {
   "cell_type": "code",
   "execution_count": 16,
   "id": "d9dda7ca",
   "metadata": {},
   "outputs": [
    {
     "data": {
      "text/html": [
       "<div>\n",
       "<style scoped>\n",
       "    .dataframe tbody tr th:only-of-type {\n",
       "        vertical-align: middle;\n",
       "    }\n",
       "\n",
       "    .dataframe tbody tr th {\n",
       "        vertical-align: top;\n",
       "    }\n",
       "\n",
       "    .dataframe thead th {\n",
       "        text-align: right;\n",
       "    }\n",
       "</style>\n",
       "<table border=\"1\" class=\"dataframe\">\n",
       "  <thead>\n",
       "    <tr style=\"text-align: right;\">\n",
       "      <th></th>\n",
       "      <th>review_aroma</th>\n",
       "      <th>review_appearance</th>\n",
       "      <th>review_palate</th>\n",
       "      <th>review_taste</th>\n",
       "      <th>beer_abv</th>\n",
       "      <th>beer_beerid</th>\n",
       "      <th>Altbier</th>\n",
       "      <th>American Adjunct Lager</th>\n",
       "      <th>American Amber / Red Ale</th>\n",
       "      <th>American Amber / Red Lager</th>\n",
       "      <th>...</th>\n",
       "      <th>Scotch Ale / Wee Heavy</th>\n",
       "      <th>Scottish Ale</th>\n",
       "      <th>Scottish Gruit / Ancient Herbed Ale</th>\n",
       "      <th>Smoked Beer</th>\n",
       "      <th>Tripel</th>\n",
       "      <th>Vienna Lager</th>\n",
       "      <th>Weizenbock</th>\n",
       "      <th>Wheatwine</th>\n",
       "      <th>Winter Warmer</th>\n",
       "      <th>Witbier</th>\n",
       "    </tr>\n",
       "  </thead>\n",
       "  <tbody>\n",
       "    <tr>\n",
       "      <th>count</th>\n",
       "      <td>1.518478e+06</td>\n",
       "      <td>1.518478e+06</td>\n",
       "      <td>1.518478e+06</td>\n",
       "      <td>1.518478e+06</td>\n",
       "      <td>1.518478e+06</td>\n",
       "      <td>1.518478e+06</td>\n",
       "      <td>1.518478e+06</td>\n",
       "      <td>1.518478e+06</td>\n",
       "      <td>1.518478e+06</td>\n",
       "      <td>1.518478e+06</td>\n",
       "      <td>...</td>\n",
       "      <td>1.518478e+06</td>\n",
       "      <td>1.518478e+06</td>\n",
       "      <td>1.518478e+06</td>\n",
       "      <td>1.518478e+06</td>\n",
       "      <td>1.518478e+06</td>\n",
       "      <td>1.518478e+06</td>\n",
       "      <td>1.518478e+06</td>\n",
       "      <td>1.518478e+06</td>\n",
       "      <td>1.518478e+06</td>\n",
       "      <td>1.518478e+06</td>\n",
       "    </tr>\n",
       "    <tr>\n",
       "      <th>mean</th>\n",
       "      <td>3.746218e+00</td>\n",
       "      <td>3.850383e+00</td>\n",
       "      <td>3.753735e+00</td>\n",
       "      <td>3.804082e+00</td>\n",
       "      <td>7.042488e+00</td>\n",
       "      <td>2.140575e+04</td>\n",
       "      <td>4.754102e-03</td>\n",
       "      <td>1.907436e-02</td>\n",
       "      <td>2.748212e-02</td>\n",
       "      <td>5.668834e-03</td>\n",
       "      <td>...</td>\n",
       "      <td>1.097810e-02</td>\n",
       "      <td>5.616808e-03</td>\n",
       "      <td>1.797194e-03</td>\n",
       "      <td>1.863708e-03</td>\n",
       "      <td>1.973753e-02</td>\n",
       "      <td>5.488390e-03</td>\n",
       "      <td>6.092285e-03</td>\n",
       "      <td>2.369478e-03</td>\n",
       "      <td>1.316384e-02</td>\n",
       "      <td>1.887021e-02</td>\n",
       "    </tr>\n",
       "    <tr>\n",
       "      <th>std</th>\n",
       "      <td>6.953440e-01</td>\n",
       "      <td>6.143106e-01</td>\n",
       "      <td>6.793350e-01</td>\n",
       "      <td>7.286079e-01</td>\n",
       "      <td>2.322568e+00</td>\n",
       "      <td>2.178033e+04</td>\n",
       "      <td>6.878593e-02</td>\n",
       "      <td>1.367865e-01</td>\n",
       "      <td>1.634836e-01</td>\n",
       "      <td>7.507797e-02</td>\n",
       "      <td>...</td>\n",
       "      <td>1.041997e-01</td>\n",
       "      <td>7.473462e-02</td>\n",
       "      <td>4.235523e-02</td>\n",
       "      <td>4.313045e-02</td>\n",
       "      <td>1.390970e-01</td>\n",
       "      <td>7.388012e-02</td>\n",
       "      <td>7.781499e-02</td>\n",
       "      <td>4.861959e-02</td>\n",
       "      <td>1.139761e-01</td>\n",
       "      <td>1.360667e-01</td>\n",
       "    </tr>\n",
       "    <tr>\n",
       "      <th>min</th>\n",
       "      <td>1.000000e+00</td>\n",
       "      <td>0.000000e+00</td>\n",
       "      <td>1.000000e+00</td>\n",
       "      <td>1.000000e+00</td>\n",
       "      <td>1.000000e-02</td>\n",
       "      <td>5.000000e+00</td>\n",
       "      <td>0.000000e+00</td>\n",
       "      <td>0.000000e+00</td>\n",
       "      <td>0.000000e+00</td>\n",
       "      <td>0.000000e+00</td>\n",
       "      <td>...</td>\n",
       "      <td>0.000000e+00</td>\n",
       "      <td>0.000000e+00</td>\n",
       "      <td>0.000000e+00</td>\n",
       "      <td>0.000000e+00</td>\n",
       "      <td>0.000000e+00</td>\n",
       "      <td>0.000000e+00</td>\n",
       "      <td>0.000000e+00</td>\n",
       "      <td>0.000000e+00</td>\n",
       "      <td>0.000000e+00</td>\n",
       "      <td>0.000000e+00</td>\n",
       "    </tr>\n",
       "    <tr>\n",
       "      <th>25%</th>\n",
       "      <td>3.500000e+00</td>\n",
       "      <td>3.500000e+00</td>\n",
       "      <td>3.500000e+00</td>\n",
       "      <td>3.500000e+00</td>\n",
       "      <td>5.200000e+00</td>\n",
       "      <td>1.654000e+03</td>\n",
       "      <td>0.000000e+00</td>\n",
       "      <td>0.000000e+00</td>\n",
       "      <td>0.000000e+00</td>\n",
       "      <td>0.000000e+00</td>\n",
       "      <td>...</td>\n",
       "      <td>0.000000e+00</td>\n",
       "      <td>0.000000e+00</td>\n",
       "      <td>0.000000e+00</td>\n",
       "      <td>0.000000e+00</td>\n",
       "      <td>0.000000e+00</td>\n",
       "      <td>0.000000e+00</td>\n",
       "      <td>0.000000e+00</td>\n",
       "      <td>0.000000e+00</td>\n",
       "      <td>0.000000e+00</td>\n",
       "      <td>0.000000e+00</td>\n",
       "    </tr>\n",
       "    <tr>\n",
       "      <th>50%</th>\n",
       "      <td>4.000000e+00</td>\n",
       "      <td>4.000000e+00</td>\n",
       "      <td>4.000000e+00</td>\n",
       "      <td>4.000000e+00</td>\n",
       "      <td>6.500000e+00</td>\n",
       "      <td>1.283000e+04</td>\n",
       "      <td>0.000000e+00</td>\n",
       "      <td>0.000000e+00</td>\n",
       "      <td>0.000000e+00</td>\n",
       "      <td>0.000000e+00</td>\n",
       "      <td>...</td>\n",
       "      <td>0.000000e+00</td>\n",
       "      <td>0.000000e+00</td>\n",
       "      <td>0.000000e+00</td>\n",
       "      <td>0.000000e+00</td>\n",
       "      <td>0.000000e+00</td>\n",
       "      <td>0.000000e+00</td>\n",
       "      <td>0.000000e+00</td>\n",
       "      <td>0.000000e+00</td>\n",
       "      <td>0.000000e+00</td>\n",
       "      <td>0.000000e+00</td>\n",
       "    </tr>\n",
       "    <tr>\n",
       "      <th>75%</th>\n",
       "      <td>4.000000e+00</td>\n",
       "      <td>4.000000e+00</td>\n",
       "      <td>4.000000e+00</td>\n",
       "      <td>4.500000e+00</td>\n",
       "      <td>8.500000e+00</td>\n",
       "      <td>3.923600e+04</td>\n",
       "      <td>0.000000e+00</td>\n",
       "      <td>0.000000e+00</td>\n",
       "      <td>0.000000e+00</td>\n",
       "      <td>0.000000e+00</td>\n",
       "      <td>...</td>\n",
       "      <td>0.000000e+00</td>\n",
       "      <td>0.000000e+00</td>\n",
       "      <td>0.000000e+00</td>\n",
       "      <td>0.000000e+00</td>\n",
       "      <td>0.000000e+00</td>\n",
       "      <td>0.000000e+00</td>\n",
       "      <td>0.000000e+00</td>\n",
       "      <td>0.000000e+00</td>\n",
       "      <td>0.000000e+00</td>\n",
       "      <td>0.000000e+00</td>\n",
       "    </tr>\n",
       "    <tr>\n",
       "      <th>max</th>\n",
       "      <td>5.000000e+00</td>\n",
       "      <td>5.000000e+00</td>\n",
       "      <td>5.000000e+00</td>\n",
       "      <td>5.000000e+00</td>\n",
       "      <td>5.770000e+01</td>\n",
       "      <td>7.731600e+04</td>\n",
       "      <td>1.000000e+00</td>\n",
       "      <td>1.000000e+00</td>\n",
       "      <td>1.000000e+00</td>\n",
       "      <td>1.000000e+00</td>\n",
       "      <td>...</td>\n",
       "      <td>1.000000e+00</td>\n",
       "      <td>1.000000e+00</td>\n",
       "      <td>1.000000e+00</td>\n",
       "      <td>1.000000e+00</td>\n",
       "      <td>1.000000e+00</td>\n",
       "      <td>1.000000e+00</td>\n",
       "      <td>1.000000e+00</td>\n",
       "      <td>1.000000e+00</td>\n",
       "      <td>1.000000e+00</td>\n",
       "      <td>1.000000e+00</td>\n",
       "    </tr>\n",
       "  </tbody>\n",
       "</table>\n",
       "<p>8 rows × 110 columns</p>\n",
       "</div>"
      ],
      "text/plain": [
       "       review_aroma  review_appearance  review_palate  review_taste  \\\n",
       "count  1.518478e+06       1.518478e+06   1.518478e+06  1.518478e+06   \n",
       "mean   3.746218e+00       3.850383e+00   3.753735e+00  3.804082e+00   \n",
       "std    6.953440e-01       6.143106e-01   6.793350e-01  7.286079e-01   \n",
       "min    1.000000e+00       0.000000e+00   1.000000e+00  1.000000e+00   \n",
       "25%    3.500000e+00       3.500000e+00   3.500000e+00  3.500000e+00   \n",
       "50%    4.000000e+00       4.000000e+00   4.000000e+00  4.000000e+00   \n",
       "75%    4.000000e+00       4.000000e+00   4.000000e+00  4.500000e+00   \n",
       "max    5.000000e+00       5.000000e+00   5.000000e+00  5.000000e+00   \n",
       "\n",
       "           beer_abv   beer_beerid       Altbier  American Adjunct Lager  \\\n",
       "count  1.518478e+06  1.518478e+06  1.518478e+06            1.518478e+06   \n",
       "mean   7.042488e+00  2.140575e+04  4.754102e-03            1.907436e-02   \n",
       "std    2.322568e+00  2.178033e+04  6.878593e-02            1.367865e-01   \n",
       "min    1.000000e-02  5.000000e+00  0.000000e+00            0.000000e+00   \n",
       "25%    5.200000e+00  1.654000e+03  0.000000e+00            0.000000e+00   \n",
       "50%    6.500000e+00  1.283000e+04  0.000000e+00            0.000000e+00   \n",
       "75%    8.500000e+00  3.923600e+04  0.000000e+00            0.000000e+00   \n",
       "max    5.770000e+01  7.731600e+04  1.000000e+00            1.000000e+00   \n",
       "\n",
       "       American Amber / Red Ale  American Amber / Red Lager  ...  \\\n",
       "count              1.518478e+06                1.518478e+06  ...   \n",
       "mean               2.748212e-02                5.668834e-03  ...   \n",
       "std                1.634836e-01                7.507797e-02  ...   \n",
       "min                0.000000e+00                0.000000e+00  ...   \n",
       "25%                0.000000e+00                0.000000e+00  ...   \n",
       "50%                0.000000e+00                0.000000e+00  ...   \n",
       "75%                0.000000e+00                0.000000e+00  ...   \n",
       "max                1.000000e+00                1.000000e+00  ...   \n",
       "\n",
       "       Scotch Ale / Wee Heavy  Scottish Ale  \\\n",
       "count            1.518478e+06  1.518478e+06   \n",
       "mean             1.097810e-02  5.616808e-03   \n",
       "std              1.041997e-01  7.473462e-02   \n",
       "min              0.000000e+00  0.000000e+00   \n",
       "25%              0.000000e+00  0.000000e+00   \n",
       "50%              0.000000e+00  0.000000e+00   \n",
       "75%              0.000000e+00  0.000000e+00   \n",
       "max              1.000000e+00  1.000000e+00   \n",
       "\n",
       "       Scottish Gruit / Ancient Herbed Ale   Smoked Beer        Tripel  \\\n",
       "count                         1.518478e+06  1.518478e+06  1.518478e+06   \n",
       "mean                          1.797194e-03  1.863708e-03  1.973753e-02   \n",
       "std                           4.235523e-02  4.313045e-02  1.390970e-01   \n",
       "min                           0.000000e+00  0.000000e+00  0.000000e+00   \n",
       "25%                           0.000000e+00  0.000000e+00  0.000000e+00   \n",
       "50%                           0.000000e+00  0.000000e+00  0.000000e+00   \n",
       "75%                           0.000000e+00  0.000000e+00  0.000000e+00   \n",
       "max                           1.000000e+00  1.000000e+00  1.000000e+00   \n",
       "\n",
       "       Vienna Lager    Weizenbock     Wheatwine  Winter Warmer       Witbier  \n",
       "count  1.518478e+06  1.518478e+06  1.518478e+06   1.518478e+06  1.518478e+06  \n",
       "mean   5.488390e-03  6.092285e-03  2.369478e-03   1.316384e-02  1.887021e-02  \n",
       "std    7.388012e-02  7.781499e-02  4.861959e-02   1.139761e-01  1.360667e-01  \n",
       "min    0.000000e+00  0.000000e+00  0.000000e+00   0.000000e+00  0.000000e+00  \n",
       "25%    0.000000e+00  0.000000e+00  0.000000e+00   0.000000e+00  0.000000e+00  \n",
       "50%    0.000000e+00  0.000000e+00  0.000000e+00   0.000000e+00  0.000000e+00  \n",
       "75%    0.000000e+00  0.000000e+00  0.000000e+00   0.000000e+00  0.000000e+00  \n",
       "max    1.000000e+00  1.000000e+00  1.000000e+00   1.000000e+00  1.000000e+00  \n",
       "\n",
       "[8 rows x 110 columns]"
      ]
     },
     "execution_count": 16,
     "metadata": {},
     "output_type": "execute_result"
    }
   ],
   "source": [
    "X.describe()"
   ]
  },
  {
   "cell_type": "markdown",
   "id": "3ff154be",
   "metadata": {},
   "source": [
    "##### Checking our reviews data for outliers:"
   ]
  },
  {
   "cell_type": "code",
   "execution_count": 17,
   "id": "4f598fe5",
   "metadata": {},
   "outputs": [
    {
     "data": {
      "image/png": "[encoded data removed]",
      "text/plain": [
       "<Figure size 432x288 with 1 Axes>"
      ]
     },
     "metadata": {
      "needs_background": "light"
     },
     "output_type": "display_data"
    },
    {
     "data": {
      "text/plain": [
       "<Figure size 864x864 with 0 Axes>"
      ]
     },
     "metadata": {},
     "output_type": "display_data"
    }
   ],
   "source": [
    "sns.boxplot(data=y);\n",
    "plt.ylabel('Review Score out of 5 stars')\n",
    "plt.figure(figsize=(12,12));\n",
    "plt.show()"
   ]
  },
  {
   "cell_type": "markdown",
   "id": "63bddd24",
   "metadata": {},
   "source": [
    "We can see most of our beer reviews are around 4 stars, which makes sense logically. Most people when rating will just give above average if it is not exceptional or terrible. However, if a beer is terrible, then we can see some outliers in the graph. However, it seems like we don't have too many outliers, so perhaps if we decided to use regularization, we could use L2 regularization instead of L1."
   ]
  },
  {
   "cell_type": "markdown",
   "id": "e3397d5d",
   "metadata": {},
   "source": [
    "##### Some Basic Model Selection\n",
    "\n",
    "In our solution to the research problem, our dataset is huge. We have over 1.5 million samples, which means we can split our data into train, test, and validation. We don't need things like nested cross validation or k-folds, since those are techniques used when data is sparse."
   ]
  },
  {
   "cell_type": "code",
   "execution_count": 18,
   "id": "ad66235e",
   "metadata": {},
   "outputs": [],
   "source": [
    "X_train, X_test, y_train, y_test = train_test_split(X, y, test_size=0.2, random_state=42)\n",
    "X_train, X_val, y_train, y_val = train_test_split(X_train, y_train, test_size=0.25, random_state=42)"
   ]
  },
  {
   "cell_type": "code",
   "execution_count": 19,
   "id": "f6261928",
   "metadata": {},
   "outputs": [],
   "source": [
    "# convert everything to float for ease of use\n",
    "X_train = np.array(X_train, dtype=np.float32)\n",
    "y_train = np.array(y_train, dtype=np.float32)\n",
    "X_val = np.array(X_val, dtype=np.float32)\n",
    "y_val = np.array(y_val, dtype=np.float32)\n",
    "X_test = np.array(X_test, dtype=np.float32)\n",
    "y_test = np.array(y_test, dtype=np.float32)"
   ]
  },
  {
   "cell_type": "markdown",
   "id": "9099f9df",
   "metadata": {},
   "source": [
    "# Proposed Solution:\n",
    "We will first create a baseline decision tree model to get a feel for how it performs. We don't expect this to be great, because it will train slow compared to a neural network and is prone to overfitting since we haven't done any particular model selection on it. However, it will help determine the relationship between features and help select which features are the most important to help other models.  We will improve the tree model using a grid search to get the most optimal parameters.\n",
    "\n",
    "From these results, we will create a fully connected neural network, which is useful because it can use backpropogation to fix previous misclassifications. This will make the model much more accurate. \n",
    "\n",
    "Finally, using the neural network, we will create a basic recommendation system that takes input from the user and inputs into our model to predict. We will need to add some logic to return the name of the beer that the model prediction corresponds to."
   ]
  },
  {
   "cell_type": "markdown",
   "id": "5f3f58dd",
   "metadata": {},
   "source": [
    "# Evaluation Metrics:\n",
    "\n",
    "Our model isn't doing any classification, we already know all drinks that we predict are going to be beers. That means things like confusion matricies, F1 score, precision, etc. are not applicable. Instead, we would have to use things like Mean Absolute Error, Root Mean Squared Error, and R2 correlation coefficients to evaluate our models. \n",
    "\n",
    "We will mostly evalute on mean absolute error, because of our prediction rating system. When we make a mistake, we only care how far it is from the true predicted value, not the direction it is in. Therefore, to compute this distance MAE is the best choice."
   ]
  },
  {
   "cell_type": "markdown",
   "id": "652bf3a6",
   "metadata": {},
   "source": [
    "# Outside Baseline Model TODO:\n",
    "\n",
    "- Add baseline model made by another person\n",
    "\n",
    "- TA: we found baseline code, but not sure if we are supposed to copy paste it directly, or should we just post a reference?"
   ]
  },
  {
   "cell_type": "markdown",
   "id": "6486647b",
   "metadata": {},
   "source": [
    "# Results:\n"
   ]
  },
  {
   "cell_type": "markdown",
   "id": "cd4706f1",
   "metadata": {},
   "source": [
    "### Subsection 1: Our own decision tree baseline model"
   ]
  },
  {
   "cell_type": "markdown",
   "id": "57e5f9a8",
   "metadata": {},
   "source": [
    "##### A little behind Model Selection\n",
    "Reasoning behind selecting tree as our baseline model: At this point, we still don't know too much about our data; only that there are outliers and also that our ratings are heavily biased. We also know that our features have both categorical as well as numerical data, and that there is possible multicollinearity between features.\n",
    "\n",
    "Choosing Decision trees is a good idea because it can handle all these conditions: most notably, the bias in our data, while also not assuming anything about our data (unlike OLS implementation) and trains very quickly to get good enough results to interpret. One of these intepretations that trees specifically provide that we can use later in other models is feature importance, so we can put weight on that feature in the future. Decision trees also can handle multicollinearity, so we wouldn't have to worry about that.\n",
    "\n",
    "\n",
    "Other simplistic models that we learned in class that could be good regression baseline models are linear regression and SVM, however, in this case, we are unsure of our data is actually linear. Fitting a linear line on nonlinear data would make the model perform poorly, and both of these models are sensitive to the rating bias we have in our data. Additionally, linear regression fails when there is multicollinearity."
   ]
  },
  {
   "cell_type": "code",
   "execution_count": 20,
   "id": "38ce7273",
   "metadata": {},
   "outputs": [],
   "source": [
    "model = DecisionTreeRegressor(max_depth=3)"
   ]
  },
  {
   "cell_type": "code",
   "execution_count": 21,
   "id": "e0ffaf83",
   "metadata": {},
   "outputs": [
    {
     "data": {
      "text/plain": [
       "DecisionTreeRegressor(max_depth=3)"
      ]
     },
     "execution_count": 21,
     "metadata": {},
     "output_type": "execute_result"
    }
   ],
   "source": [
    "model.fit(X_train,y_train)"
   ]
  },
  {
   "cell_type": "code",
   "execution_count": 22,
   "id": "a023e9fb",
   "metadata": {},
   "outputs": [
    {
     "data": {
      "image/png": "[encoded data removed]",
      "text/plain": [
       "<Figure size 1440x720 with 1 Axes>"
      ]
     },
     "metadata": {
      "needs_background": "light"
     },
     "output_type": "display_data"
    }
   ],
   "source": [
    "plt.figure(figsize=(20,10))\n",
    "plot_tree(model, filled=True)\n",
    "plt.show()"
   ]
  },
  {
   "cell_type": "markdown",
   "id": "b25d6183",
   "metadata": {},
   "source": [
    "In the figure above, we can see a visualization of how our tree is structured/how the model makes its decisions. Since we specificed a max depth of 3, our model is only 3 layers.\n",
    "\n",
    "Note: In our improved tree, this visualization can also be seen using the same code, however it is unreadable since there are so many layers and parameters so we omitted it."
   ]
  },
  {
   "cell_type": "code",
   "execution_count": 23,
   "id": "5721208b",
   "metadata": {},
   "outputs": [
    {
     "data": {
      "text/plain": [
       "('review_taste', 0.985284179045517)"
      ]
     },
     "execution_count": 23,
     "metadata": {},
     "output_type": "execute_result"
    }
   ],
   "source": [
    "feature_importances = model.feature_importances_\n",
    "feature_importances = sorted(zip(X.columns, feature_importances))\n",
    "max(feature_importances)"
   ]
  },
  {
   "cell_type": "markdown",
   "id": "040f4f34",
   "metadata": {},
   "source": [
    "We can see in our model, the most important feature is the taste. However, it is taking way too much percentage, the other columns should have some weight. This is something to consider when we implement our further models."
   ]
  },
  {
   "cell_type": "code",
   "execution_count": 24,
   "id": "eab1746f",
   "metadata": {},
   "outputs": [],
   "source": [
    "y_pred = model.predict(X_val)"
   ]
  },
  {
   "cell_type": "code",
   "execution_count": 25,
   "id": "3f1c13dd",
   "metadata": {},
   "outputs": [
    {
     "data": {
      "text/plain": [
       "array([4.2398467 , 3.6422907 , 3.6422907 , 4.02011732, 4.02011732])"
      ]
     },
     "execution_count": 25,
     "metadata": {},
     "output_type": "execute_result"
    }
   ],
   "source": [
    "y_pred[:5]"
   ]
  },
  {
   "cell_type": "code",
   "execution_count": 26,
   "id": "ea615bfe",
   "metadata": {},
   "outputs": [
    {
     "data": {
      "text/plain": [
       "array([4. , 4.5, 5. , 4. , 4.5], dtype=float32)"
      ]
     },
     "execution_count": 26,
     "metadata": {},
     "output_type": "execute_result"
    }
   ],
   "source": [
    "y_test[:5]"
   ]
  },
  {
   "cell_type": "code",
   "execution_count": 27,
   "id": "6b3bab27",
   "metadata": {},
   "outputs": [
    {
     "data": {
      "text/plain": [
       "0.321302087303361"
      ]
     },
     "execution_count": 27,
     "metadata": {},
     "output_type": "execute_result"
    }
   ],
   "source": [
    "mae = mean_absolute_error(y_val, y_pred)\n",
    "mae"
   ]
  },
  {
   "cell_type": "code",
   "execution_count": 28,
   "id": "0b36b911",
   "metadata": {},
   "outputs": [
    {
     "data": {
      "text/plain": [
       "0.4377291495473541"
      ]
     },
     "execution_count": 28,
     "metadata": {},
     "output_type": "execute_result"
    }
   ],
   "source": [
    "rmse = np.sqrt(mean_squared_error(y_val, y_pred))\n",
    "rmse"
   ]
  },
  {
   "cell_type": "code",
   "execution_count": 29,
   "id": "0311129d",
   "metadata": {},
   "outputs": [
    {
     "data": {
      "text/plain": [
       "0.6262170239566527"
      ]
     },
     "execution_count": 29,
     "metadata": {},
     "output_type": "execute_result"
    }
   ],
   "source": [
    "r2 = r2_score(y_val, y_pred)\n",
    "r2"
   ]
  },
  {
   "cell_type": "code",
   "execution_count": 30,
   "id": "4e57aab0",
   "metadata": {},
   "outputs": [
    {
     "data": {
      "image/png": "[encoded data removed]",
      "text/plain": [
       "<Figure size 432x288 with 1 Axes>"
      ]
     },
     "metadata": {
      "needs_background": "light"
     },
     "output_type": "display_data"
    }
   ],
   "source": [
    "abs_error = np.abs(np.array(y_val) - np.array(y_pred).flatten())\n",
    "plt.hist(abs_error, bins=10, range=(0,3))\n",
    "plt.ylabel('count')\n",
    "plt.xlabel('Error in stars (0-5)')\n",
    "plt.title('Errors represented in stars, tree model')\n",
    "plt.show()"
   ]
  },
  {
   "cell_type": "markdown",
   "id": "30f88515",
   "metadata": {},
   "source": [
    "As we can see, our own baseline decision tree is ok, but probably can be improved with some parameter tuning. As described before, the main error metric to look at is MAE, since we don't care what direction our error is off by, we only care about the true distance that the predicted rating is from the true rating.\n",
    "\n",
    "In the next section, we used a randomized grid search to improve the model's performance."
   ]
  },
  {
   "cell_type": "markdown",
   "id": "1350cf80",
   "metadata": {},
   "source": [
    "### Subsection 2 Improved Decision Tree"
   ]
  },
  {
   "cell_type": "markdown",
   "id": "5c5a6e8a",
   "metadata": {},
   "source": [
    "###### A little behind our model selection:"
   ]
  },
  {
   "cell_type": "markdown",
   "id": "bb08b399",
   "metadata": {},
   "source": [
    "#### Randomized Grid Search"
   ]
  },
  {
   "cell_type": "markdown",
   "id": "8724d76b",
   "metadata": {},
   "source": [
    "Our dataset is massive. We initally used a regular grid search to find the best parameters, but exhausting each possible parameter to test its performance proved to take way too long. Instead, we choose to use a randomized grid search, which was mentioned in class. Basically by choosing this model, we sacrifice possible improvements in performance for speed in search, which is something we are willing to do. Therefore, to further improve this model, we could use the regular grid search in the future."
   ]
  },
  {
   "cell_type": "code",
   "execution_count": 31,
   "id": "13e306e9",
   "metadata": {},
   "outputs": [],
   "source": [
    "param_dist = {\"max_depth\": [3, 5, 7, 10],\n",
    "               \"min_samples_split\": randint(2, 20),\n",
    "               \"min_samples_leaf\": randint(1, 20)}"
   ]
  },
  {
   "cell_type": "markdown",
   "id": "dbd93984",
   "metadata": {},
   "source": [
    "Here, since we already have ran this code before, we don't want to run it again since it takes a long time. So, we just hard coded the values that the random search found."
   ]
  },
  {
   "cell_type": "code",
   "execution_count": 32,
   "id": "d74bbb96",
   "metadata": {},
   "outputs": [],
   "source": [
    "mode = \"none\""
   ]
  },
  {
   "cell_type": "code",
   "execution_count": 33,
   "id": "61e29c37",
   "metadata": {},
   "outputs": [],
   "source": [
    "if mode == \"search\":\n",
    "    model = DecisionTreeRegressor()\n",
    "    random_search = RandomizedSearchCV(model, param_distributions=param_dist, n_iter=10, cv=5, random_state=42, n_jobs=-1)\n",
    "    new_model = random_search.fit(X_train, y_train)\n",
    "    print('Best Score: %s' % new_model.best_score_)\n",
    "    print('Best Hyperparameters: %s' % new_model.best_params_)"
   ]
  },
  {
   "cell_type": "code",
   "execution_count": 34,
   "id": "1386ff42",
   "metadata": {},
   "outputs": [],
   "source": [
    "best_score = 0.677181106120889\n",
    "best_depth = 10\n",
    "best_min_samples_leaf = 12\n",
    "best_min_samples_split = 7"
   ]
  },
  {
   "cell_type": "markdown",
   "id": "13983349",
   "metadata": {},
   "source": [
    "Fitting our tree on our new parameters"
   ]
  },
  {
   "cell_type": "code",
   "execution_count": 35,
   "id": "2a68eb51",
   "metadata": {},
   "outputs": [
    {
     "data": {
      "text/plain": [
       "DecisionTreeRegressor(max_depth=10, min_samples_leaf=12, min_samples_split=7)"
      ]
     },
     "execution_count": 35,
     "metadata": {},
     "output_type": "execute_result"
    }
   ],
   "source": [
    "tree_model = DecisionTreeRegressor(max_depth=best_depth, min_samples_leaf=best_min_samples_leaf, min_samples_split=best_min_samples_split)\n",
    "tree_model.fit(X_train,y_train)"
   ]
  },
  {
   "cell_type": "code",
   "execution_count": 36,
   "id": "523c5080",
   "metadata": {},
   "outputs": [
    {
     "data": {
      "text/plain": [
       "('review_taste', 0.9154830223114546)"
      ]
     },
     "execution_count": 36,
     "metadata": {},
     "output_type": "execute_result"
    }
   ],
   "source": [
    "feature_importances =tree_model.feature_importances_\n",
    "feature_importances = sorted(zip(X.columns, feature_importances))\n",
    "max(feature_importances)"
   ]
  },
  {
   "cell_type": "code",
   "execution_count": 37,
   "id": "3d9bb8d3",
   "metadata": {},
   "outputs": [],
   "source": [
    "y_pred = tree_model.predict(X_test)"
   ]
  },
  {
   "cell_type": "code",
   "execution_count": 38,
   "id": "e2523b54",
   "metadata": {},
   "outputs": [
    {
     "data": {
      "text/plain": [
       "0.3077674209074298"
      ]
     },
     "execution_count": 38,
     "metadata": {},
     "output_type": "execute_result"
    }
   ],
   "source": [
    "mae = mean_absolute_error(y_test, y_pred)\n",
    "mae"
   ]
  },
  {
   "cell_type": "code",
   "execution_count": 39,
   "id": "d87735df",
   "metadata": {},
   "outputs": [
    {
     "data": {
      "text/plain": [
       "0.40708745309675665"
      ]
     },
     "execution_count": 39,
     "metadata": {},
     "output_type": "execute_result"
    }
   ],
   "source": [
    "rmse = np.sqrt(mean_squared_error(y_test, y_pred))\n",
    "rmse"
   ]
  },
  {
   "cell_type": "code",
   "execution_count": 40,
   "id": "796a0218",
   "metadata": {},
   "outputs": [
    {
     "data": {
      "text/plain": [
       "0.6782364716010976"
      ]
     },
     "execution_count": 40,
     "metadata": {},
     "output_type": "execute_result"
    }
   ],
   "source": [
    "r2 = r2_score(y_test, y_pred)\n",
    "r2"
   ]
  },
  {
   "cell_type": "code",
   "execution_count": 41,
   "id": "180e3719",
   "metadata": {},
   "outputs": [
    {
     "data": {
      "image/png": "[encoded data removed]",
      "text/plain": [
       "<Figure size 432x288 with 1 Axes>"
      ]
     },
     "metadata": {
      "needs_background": "light"
     },
     "output_type": "display_data"
    }
   ],
   "source": [
    "abs_error = np.abs(np.array(y_test) - np.array(y_pred).flatten())\n",
    "plt.hist(abs_error, bins=10, range=(0,3))\n",
    "plt.ylabel('count')\n",
    "plt.xlabel('Error in stars (0-5)')\n",
    "plt.title('Errors represented in stars, tree model')\n",
    "plt.show()"
   ]
  },
  {
   "cell_type": "markdown",
   "id": "9ffdb178",
   "metadata": {},
   "source": [
    "After running our grid search, we actually can see our model performed about 2% better, which is pretty good. Additionally, we can see most of our errors are actually pretty close to 0-0.5 stars, which is really good. Our RMSE value decreased, as well as our R2 score, which shows how well the predicted model fits the data. Furthermore, we can see that when we find the most important feature, it is still consistent with 'review_taste', but now has significantly less weight. This logically makes sense that the taste is the most important feature, and even though the weight decreased in this model, we still think the other features should be weighted more heavily than just the taste. Overall, decision trees are a pretty good model choice on this dataset, because it can model nonlinear relationships and also because it is not a parametric model that makes assumptions about our data."
   ]
  },
  {
   "cell_type": "markdown",
   "id": "f22d3bb1",
   "metadata": {},
   "source": [
    "## Subsection 3: Fully connected Neural Network"
   ]
  },
  {
   "cell_type": "markdown",
   "id": "9fd4bd76",
   "metadata": {},
   "source": [
    "##### A little behind model selection/Why Neural Networks?:\n",
    "\n",
    "As noted in the research paper from lecture, we know that the best performing models over all variety of datasets are decision trees and neural networks, which is partially why we choose to implement it here. More specifically, it is because neural networks are able to learn both linear and nonlinear relationships with no problem. From our models beforehand, it seems like there is a possible linear relationship between our features and the predicted rating, but that isn't something that we can fully confirm. Choosing a neural network allows us to learn these nonlinear relationships using hidden layers and nonlinear activation functions. We added a few layers in order to add to the complexity of the model to test if the model actually accurately learned these relationships. We will go deeper into the layer architecture below."
   ]
  },
  {
   "cell_type": "code",
   "execution_count": 42,
   "id": "fce7d574",
   "metadata": {},
   "outputs": [],
   "source": [
    "from keras.models import Sequential\n",
    "from keras.layers import Dense, Dropout\n",
    "from tensorflow.keras.optimizers import Adam\n",
    "from keras import regularizers\n",
    "from sklearn.utils.class_weight import compute_class_weight"
   ]
  },
  {
   "cell_type": "markdown",
   "id": "f6bc8d86",
   "metadata": {},
   "source": [
    "If you look at the data section, we found that our ratings/classes are very imbalanced; we need to give the ratings that appear less frequently to have more weight."
   ]
  },
  {
   "cell_type": "code",
   "execution_count": 43,
   "id": "dbcf8913",
   "metadata": {
    "scrolled": true
   },
   "outputs": [
    {
     "data": {
      "text/plain": [
       "{0: 18221.72,\n",
       " 1: 14.845787844223562,\n",
       " 2: 12.497750342935529,\n",
       " 3: 4.252443407234539,\n",
       " 4: 2.7908898759381224,\n",
       " 5: 0.9719494761996202,\n",
       " 6: 0.5301419203174732,\n",
       " 7: 0.2710339370284871,\n",
       " 8: 0.48394320710920363,\n",
       " 9: 1.7006122372792774}"
      ]
     },
     "execution_count": 43,
     "metadata": {},
     "output_type": "execute_result"
    }
   ],
   "source": [
    "class_weights = dict(enumerate(compute_class_weight('balanced', np.unique(y_train), y_train)))\n",
    "class_weights"
   ]
  },
  {
   "cell_type": "code",
   "execution_count": 44,
   "id": "978c787b",
   "metadata": {},
   "outputs": [
    {
     "data": {
      "text/plain": [
       "array([0. , 1. , 1.5, 2. , 2.5, 3. , 3.5, 4. , 4.5, 5. ], dtype=float32)"
      ]
     },
     "execution_count": 44,
     "metadata": {},
     "output_type": "execute_result"
    }
   ],
   "source": [
    "np.unique(y_train)"
   ]
  },
  {
   "cell_type": "code",
   "execution_count": 45,
   "id": "89c1dbe8",
   "metadata": {},
   "outputs": [
    {
     "name": "stderr",
     "output_type": "stream",
     "text": [
      "2023-03-15 21:02:53.728892: W tensorflow/compiler/xla/stream_executor/platform/default/dso_loader.cc:64] Could not load dynamic library 'libcuda.so.1'; dlerror: libcuda.so.1: cannot open shared object file: No such file or directory\n",
      "2023-03-15 21:02:53.728945: W tensorflow/compiler/xla/stream_executor/cuda/cuda_driver.cc:265] failed call to cuInit: UNKNOWN ERROR (303)\n",
      "2023-03-15 21:02:53.728985: I tensorflow/compiler/xla/stream_executor/cuda/cuda_diagnostics.cc:163] no NVIDIA GPU device is present: /dev/nvidia0 does not exist\n",
      "2023-03-15 21:02:53.730045: I tensorflow/core/platform/cpu_feature_guard.cc:193] This TensorFlow binary is optimized with oneAPI Deep Neural Network Library (oneDNN) to use the following CPU instructions in performance-critical operations:  AVX2 FMA\n",
      "To enable them in other operations, rebuild TensorFlow with the appropriate compiler flags.\n"
     ]
    }
   ],
   "source": [
    "model = Sequential()\n",
    "model.add(Dense(64, input_shape=(110,), activation='relu'))\n",
    "model.add(Dense(32, activation='relu'))\n",
    "model.add(Dense(16, activation='relu'))\n",
    "model.add(Dense(8, activation='relu'))\n",
    "model.add(Dense(1, activation='linear'))"
   ]
  },
  {
   "cell_type": "markdown",
   "id": "4f244fbf",
   "metadata": {},
   "source": [
    "##### More Model Selection on Neural Network\n",
    "\n",
    "Our overall neural network design is a recurrent neural network (sequential). We chose this because of its training efficiency as well as its ability to learn from previous mistakes. The back propogation allows the model to adjust the weights during each iteration. Finally, RNN is super flexible when it comes to input and output shapes. We need this, because we have one hot encoded categorical data; meaning our input is pretty large (hence the 110).\n",
    "\n",
    "Why we chose not to use a regularizer:\n",
    "- our model is performing poorly on the training data already, meaning it is underfitting. Adding a regularizer just makes the model more generalizable, which we do not need currently.\n",
    "- if we were to use one, use l1 since we know there are outliers in our dataset.\n",
    "\n",
    "From class, we learned that having a low number of hidden layers usually makes the model too simple to learn nonlinear relationships. We do not expect our relationships between all the features to be completely linear, so having a couple hidden layers should allow our data to learn complex relationships without overfitting.\n",
    "\n",
    "Since we are dealing with nonlinear relationships, we should use nonlinear activation functions. Relu is simple and efficient, and allows there to be a gradient everywhere so we can use backpropagation and update weights. In some of our hidden layers, we also use tanh to introduce further nonlinearity.\n",
    "\n",
    "Note: We tried implementing regularization as well as dropout, but because our model not complex enough/fitting well on the training data, it doesn't make sense to implement these techniques because they help generalize the model better, and we don't need that.\n"
   ]
  },
  {
   "cell_type": "code",
   "execution_count": 46,
   "id": "f8b810c1",
   "metadata": {},
   "outputs": [],
   "source": [
    "mode = 'none'\n",
    "save = 'no'"
   ]
  },
  {
   "cell_type": "code",
   "execution_count": 47,
   "id": "27152104",
   "metadata": {},
   "outputs": [],
   "source": [
    "# Compile the model\n",
    "if mode == 'test':\n",
    "    optimizer = Adam(learning_rate=0.01)\n",
    "    model.compile(optimizer=optimizer, loss='mean_absolute_error')\n",
    "    model.fit(X_train, y_train, epochs=3, batch_size=32, validation_data=(X_val, y_val), class_weight=class_weights)\n",
    "    if save== 'yes':\n",
    "        model.save(\"beer_nn\")\n",
    "else:\n",
    "    model = load_model('beer_nn')"
   ]
  },
  {
   "cell_type": "code",
   "execution_count": 48,
   "id": "15e24e35",
   "metadata": {},
   "outputs": [
    {
     "name": "stdout",
     "output_type": "stream",
     "text": [
      "9491/9491 [==============================] - 12s 1ms/step\n"
     ]
    }
   ],
   "source": [
    "# Evaluate the model on the test set\n",
    "y_pred = model.predict(X_test)"
   ]
  },
  {
   "cell_type": "code",
   "execution_count": 49,
   "id": "caabe87e",
   "metadata": {},
   "outputs": [
    {
     "data": {
      "text/plain": [
       "0.63363636"
      ]
     },
     "execution_count": 49,
     "metadata": {},
     "output_type": "execute_result"
    }
   ],
   "source": [
    "mae = mean_absolute_error(y_test, y_pred)\n",
    "mae"
   ]
  },
  {
   "cell_type": "code",
   "execution_count": 50,
   "id": "8d63f302",
   "metadata": {},
   "outputs": [
    {
     "data": {
      "text/plain": [
       "0.7861386"
      ]
     },
     "execution_count": 50,
     "metadata": {},
     "output_type": "execute_result"
    }
   ],
   "source": [
    "rmse = np.sqrt(mean_squared_error(y_test, y_pred))\n",
    "rmse"
   ]
  },
  {
   "cell_type": "code",
   "execution_count": 51,
   "id": "d189c981",
   "metadata": {},
   "outputs": [
    {
     "data": {
      "text/plain": [
       "-0.19994015184056413"
      ]
     },
     "execution_count": 51,
     "metadata": {},
     "output_type": "execute_result"
    }
   ],
   "source": [
    "r2 = r2_score(y_test, y_pred)\n",
    "r2"
   ]
  },
  {
   "cell_type": "code",
   "execution_count": 52,
   "id": "946d2ce6",
   "metadata": {},
   "outputs": [],
   "source": [
    "abs_error = np.abs(np.array(y_test) - np.array(y_pred).flatten())"
   ]
  },
  {
   "cell_type": "code",
   "execution_count": 53,
   "id": "b453cbf3",
   "metadata": {},
   "outputs": [
    {
     "data": {
      "image/png": "[encoded data removed]",
      "text/plain": [
       "<Figure size 432x288 with 1 Axes>"
      ]
     },
     "metadata": {
      "needs_background": "light"
     },
     "output_type": "display_data"
    }
   ],
   "source": [
    "plt.hist(abs_error, bins=10, range=(0,3))\n",
    "plt.ylabel('count')\n",
    "plt.xlabel('Error in stars (0-5)')\n",
    "plt.title('Errors represented in stars')\n",
    "plt.show()"
   ]
  },
  {
   "cell_type": "markdown",
   "id": "828219e4",
   "metadata": {},
   "source": [
    "We can see our neural network model performs actually worse than our tree model. We tried using both a very complex model to see if we could acheive no training error as well as a very simple model, but both didn't end up performing well. As a result, we just stuck with an architecture in the middle. In fact, we suspect that our tree model performs better than our neural network because of non-linearity in our data: our complex model wasn't able to easily learn these relationships, but our decision tree was."
   ]
  },
  {
   "cell_type": "markdown",
   "id": "f62f78e6",
   "metadata": {},
   "source": [
    "Now, let's see what our model determines the most important feature is at each layer."
   ]
  },
  {
   "cell_type": "code",
   "execution_count": 54,
   "id": "0e8ca989",
   "metadata": {},
   "outputs": [],
   "source": [
    "def get_most_important_feature(model,layer:int):\n",
    "    weights = model.layers[layer].get_weights()[0]\n",
    "    most_important_features = np.argmax(weights, axis=0)\n",
    "    return X.columns[np.argmax(most_important_features)], np.max(most_important_features)"
   ]
  },
  {
   "cell_type": "code",
   "execution_count": 55,
   "id": "e50b7550",
   "metadata": {},
   "outputs": [
    {
     "name": "stdout",
     "output_type": "stream",
     "text": [
      "The most heavily weighted feature is Belgian Pale Ale\n"
     ]
    }
   ],
   "source": [
    "feature, _ = get_most_important_feature(model=model,layer=0)\n",
    "print(\"The most heavily weighted feature is\", feature)"
   ]
  },
  {
   "cell_type": "code",
   "execution_count": 56,
   "id": "34872560",
   "metadata": {},
   "outputs": [
    {
     "name": "stdout",
     "output_type": "stream",
     "text": [
      "The most heavily weighted feature is American Stout\n"
     ]
    }
   ],
   "source": [
    "feature, _ = get_most_important_feature(model=model,layer=1)\n",
    "print(\"The most heavily weighted feature is\", feature)"
   ]
  },
  {
   "cell_type": "code",
   "execution_count": 57,
   "id": "b2281d51",
   "metadata": {},
   "outputs": [
    {
     "name": "stdout",
     "output_type": "stream",
     "text": [
      "The most heavily weighted feature at is beer_abv ; the weight is 28\n"
     ]
    }
   ],
   "source": [
    "feature, weight = get_most_important_feature(model=model,layer=2)\n",
    "print(\"The most heavily weighted feature at is\", feature,'; the weight is', weight)"
   ]
  },
  {
   "cell_type": "markdown",
   "id": "ec9cdc8a",
   "metadata": {},
   "source": [
    "We can see at the beginning, a specific beer type is the most important feature due to not fully being trained, but by the end, 'beer_abv' is the most important at 28%. This makes sense, because being the alcohol level logically definitely plays apart on your rating (a person will rate it higher/lower depending on if they want to be drunk or not). Additionally, the weight percentage is also more logical than our baseline, where its most heavy weight was 91%."
   ]
  },
  {
   "cell_type": "markdown",
   "id": "745be3aa",
   "metadata": {},
   "source": [
    "### Subsection 4: Building a Recommendation System"
   ]
  },
  {
   "cell_type": "markdown",
   "id": "30ed655d",
   "metadata": {},
   "source": [
    "##### Some model selection"
   ]
  },
  {
   "cell_type": "markdown",
   "id": "d2336516",
   "metadata": {},
   "source": [
    "We want to build a recommendation system, so we need to use our best model, which is actually the improved decision tree (see subsection 2). We will use our model to predict the rating of the beer that the user wants based upon the inputed feature, and then from there give a recommendation on what beer the user should try."
   ]
  },
  {
   "cell_type": "code",
   "execution_count": 58,
   "id": "cb3add6d",
   "metadata": {},
   "outputs": [],
   "source": [
    "feature_means = X.mean()"
   ]
  },
  {
   "cell_type": "code",
   "execution_count": 59,
   "id": "7db9905d",
   "metadata": {},
   "outputs": [
    {
     "name": "stdout",
     "output_type": "stream",
     "text": [
      "What alcohol percentage (0-100) do you want? 7\n"
     ]
    }
   ],
   "source": [
    "abv_input = float(input('What alcohol percentage (0-100) do you want? '))"
   ]
  },
  {
   "cell_type": "code",
   "execution_count": 60,
   "id": "59b5adcb",
   "metadata": {},
   "outputs": [
    {
     "name": "stdout",
     "output_type": "stream",
     "text": [
      "Predicted beer rating for beers where it has 7.0 % abv level is  3.9875578703703702\n"
     ]
    }
   ],
   "source": [
    "feature_means['beer_abv'] = abv_input\n",
    "user_input = feature_means.values.reshape(1, -1)\n",
    "beer_ratings = tree_model.predict(user_input)[0]\n",
    "print(\"Predicted beer rating for beers where it has\",abv_input,\"% abv level is \",beer_ratings)"
   ]
  },
  {
   "cell_type": "code",
   "execution_count": 61,
   "id": "f0660740",
   "metadata": {},
   "outputs": [
    {
     "name": "stdout",
     "output_type": "stream",
     "text": [
      "You should try Staropramen Lager\n"
     ]
    }
   ],
   "source": [
    "df['rating_difference'] = abs(y - beer_ratings)\n",
    "df = df.sort_values('rating_difference')\n",
    "top_ten=df[:10]\n",
    "df_closest = top_ten.iloc[(top_ten['beer_abv']-abv_input).abs().argsort()[:1]]\n",
    "beer_id = df_closest['beer_beerid'].values[0]\n",
    "beer_name = beer_dict.get(beer_id)\n",
    "print(\"You should try\",beer_name)"
   ]
  },
  {
   "cell_type": "markdown",
   "id": "99c08c17",
   "metadata": {},
   "source": [
    "# Discussion of Results"
   ]
  },
  {
   "cell_type": "markdown",
   "id": "0b910a2a",
   "metadata": {},
   "source": [
    "- Neural Networks are not always the answer!\n",
    "    - although NNs perform decently for almost all tasks, there usually is a better model with some critical thinking\n",
    "    - from our EDA, we can clearly see the bias in our results, since the ratings fell around 4 most of the time\n",
    "    - there also were issues of multicollinearity as well as outliers\n",
    "    - deciding on NN with many of these issues makes it difficult to come up with a good architecture to learn these complex relationships between features\n",
    "    - In the end, we can see that our improved decision tree, which accounted for all of these faults in our data, performed so much better (MAE=0.30) than our neural network (MAE=0.63)"
   ]
  },
  {
   "cell_type": "markdown",
   "id": "073fa41e",
   "metadata": {},
   "source": [
    "- Architecture of the Tree is more fit for our data\n",
    "    - take a look at our baseline tree visualization, and imagine it for our improved tree but deeper and more complex (we couldn't plot it or else the kernel would crash)\n",
    "    - inherently our data fits this representation much better\n",
    "        - allows us not to just assume if our data is nonlinear or linear, nor does it care about the biases in our results\n",
    "            - the biases are just divided into their own subbranches before it makes the prediction\n",
    "    - looking at the graph of errors, we can see most of our errors fall in between 0-0.5 stars only, while the neural network has errors sometimes between 1.5-2 stars\n",
    "    - Overall the decision tree fits our data well since it can solve all the problems we have in our dataset."
   ]
  },
  {
   "cell_type": "markdown",
   "id": "07015e68",
   "metadata": {},
   "source": [
    "- Neural Network Weights Architecture\n",
    "    - when designing our architecture, we knew that the predictions of ratings where heavily biased, which is why we had to balance the classes\n",
    "    - balancing classes essentially puts more weight on ratings that don't appear often and less on ratings that occur most of the time\n",
    "    - before doing this, our performance was terrible (MAE = 0.8), adding this improved our performance by 0.2\n",
    "    - Assumed that our output should be a linear layer, but we wanted to possibly learn nonlinear relationships, which is why we used nonlinear activation function\n",
    "        - however, we don't know if the relationship is truly linear or not\n",
    "    - architecture is heavily influenced by what you expect in your results as well as the shortcomings in your dataset"
   ]
  },
  {
   "cell_type": "markdown",
   "id": "e9651cd3",
   "metadata": {},
   "source": [
    "- Improvement in Grid Search\n",
    "    - in our grid search, we implemented a random search because it took us too long to exhaustively search for the optimal parameters\n",
    "        - using exhaustive search will most definitely improve our performance on the model"
   ]
  },
  {
   "cell_type": "markdown",
   "id": "611af6b2",
   "metadata": {},
   "source": [
    "### Limitations:\n",
    "\n",
    "The limitation of this problem is actually the huge size of our dataset not allowing us to completely search through all the parameters in an efficient timely manner. This can easily be solved with better machines, but we simply just do not have these resources at the time. More specifically, we could test the exhaustive grid search, as well as choosing more complex layers for our neural network to possibly perform better."
   ]
  },
  {
   "cell_type": "markdown",
   "id": "81a192a4",
   "metadata": {},
   "source": [
    "### Ethics/Privacy:\n",
    "\n",
    "There is definitely bias/imbalanced data in this dataset. We say this because as humans, we don't really rate things 0 or 5 on a 0-5 scale. Unless something is super bad or super good, we probably would rate it in between something like 3.5 to 4.5. This can severely affect our model predictions, so we need to take this into account.\n",
    "\n",
    "Further, we need to remove the names of the people that gave the reviews for the beers to preserve anonminity.\n",
    "\n",
    "Additionally, the ratings of some samples may occur when a person is already drunk, causing them to rate much higher or lower than if they were sober. It may also depend on how much fun they had while drunk. This also is sampling error, which we can't do much about."
   ]
  },
  {
   "cell_type": "markdown",
   "id": "514f7988",
   "metadata": {},
   "source": [
    "# Conclusion TODO:"
   ]
  },
  {
   "cell_type": "markdown",
   "id": "967e9cb2",
   "metadata": {},
   "source": [
    "complete here"
   ]
  },
  {
   "cell_type": "markdown",
   "id": "31b2abae",
   "metadata": {},
   "source": [
    "# Team Expectations\n",
    "\n",
    "* Be available on the weekends to work together if neccessary, otherwise individually complete assigned work during weekday\n",
    "* Inform all team members through group chat on updates/something is pushed to github\n",
    "* Finish all required parts at least 2 days before deadline is due"
   ]
  },
  {
   "cell_type": "markdown",
   "id": "0525e70e",
   "metadata": {},
   "source": [
    "# Project Timeline Proposal\n",
    "\n",
    "\n",
    "| Meeting Date  | Meeting Time| Completed Before Meeting  | Discuss at Meeting |\n",
    "|---|---|---|---|\n",
    "| 2/16  |  1 PM |  Brainstorm topics/questions (all)  | Determine best form of communication; Discuss and decide on final project topic; discuss hypothesis; begin background research | \n",
    "| 2/17  |  10 AM |  Do background research on topic and come up with basic model (George) | Discuss ideal dataset(s) and ethics; draft project proposal | \n",
    "| 2/20  | 10 PM  | Edit, finalize, and submit proposal; Search for datasets (All)  | Assign group members to lead each specific part   |\n",
    "| 3/1  | 6 PM  | Begin Neural Network architecture design/programming(George) | Discuss Analysis Plan   |\n",
    "| 3/4 | 12 PM  | Write recommendation system(George) | Discuss/edit project code; Complete project |\n",
    "| 3/12  | 12 PM  | Draft results/conclusion/discussion (Xinyao/Yingnan)| Discuss/edit full project |\n",
    "| 3/19  | Before 11:59 PM  | NA | Turn in Final Project  |"
   ]
  },
  {
   "cell_type": "markdown",
   "id": "a40cb989",
   "metadata": {},
   "source": [
    "# Footnotes\n",
    "<a name=\"preferences\">1</a>: AI of Things, one Telefonica Tech´s business unit. “The Use of AI and Machine Learning in the Beer Industry.” Think Big/Business, 18 June 2021, https://business.blogthinkbig.com/the-use-of-ai-and-machine-learning-in-the-beer-industry/. <br>\n",
    "\n",
    "<a name=\"classification\">2</a>: da Costa, Nattane Luíza, et al. “A Review on the Application of Chemometrics and Machine Learning Algorithms to Evaluate Beer Authentication - Food Analytical Methods.” SpringerLink, Springer US, 26 Sept. 2020, https://link.springer.com/article/10.1007/s12161-020-01864-7. \n",
    "\n",
    "\n",
    "<a name=\"beer\">3</a>: Editor, MathWorks. “Making Better Beer and Wine with Data and Machine Learning.” Medium, MathWorks, 23 Sept. 2020, https://medium.com/mathworks/making-better-beer-and-wine-with-data-and-machine-learning-dd04459f53b7. "
   ]
  }
 ],
 "metadata": {
  "kernelspec": {
   "display_name": "Python 3 (ipykernel)",
   "language": "python",
   "name": "python3"
  },
  "language_info": {
   "codemirror_mode": {
    "name": "ipython",
    "version": 3
   },
   "file_extension": ".py",
   "mimetype": "text/x-python",
   "name": "python",
   "nbconvert_exporter": "python",
   "pygments_lexer": "ipython3",
   "version": "3.9.5"
  }
 },
 "nbformat": 4,
 "nbformat_minor": 5
}
