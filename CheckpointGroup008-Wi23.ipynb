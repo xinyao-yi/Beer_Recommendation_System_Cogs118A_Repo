{
 "cells": [
  {
   "cell_type": "markdown",
   "id": "64323303",
   "metadata": {},
   "source": [
    "# What kind of Beer do you want?"
   ]
  },
  {
   "cell_type": "markdown",
   "id": "132393c8",
   "metadata": {},
   "source": [
    "# Names\n",
    "\n",
    "- George Liu, A15836054\n",
    "- Xinyao Yi, A59019592\n",
    "- Yingnan Yang, A16018172"
   ]
  },
  {
   "cell_type": "markdown",
   "id": "7b1fe929",
   "metadata": {},
   "source": [
    "### TODO List:\n",
    "- baseline model of someone else's work (add a reference)\n",
    "- l1/l2 regularization term/penalty for feature selection\n",
    "- add more visualization\n",
    "- explain model selection more\n",
    "- conclusion\n",
    "\n",
    "Make sure to focus on model selection\n",
    "explain choice of activation functions, models, train test validation split, etc.\n"
   ]
  },
  {
   "cell_type": "markdown",
   "id": "4a6643c6",
   "metadata": {},
   "source": [
    "# Abstract\n",
    "For adults, beer is one of the most highly consumed beverages; wouldn't you want to find a beer that is best for you? In order to do this, we want to examine how people rate beers. This includes things such as alcohol percentage, smell, and taste. Our goal is to build a model that predicts the ratings of beer given these attributes/features, extend the model to also recommend beers based upon your own preferences to these features.\n",
    "\n",
    "Once we filter our dataset with the necessary features, we will train a baseline linear regression model and then a more complex fully connected neural network to see how it performs, using metrics such as RMSE, MAE, and R2 correlation coefficient. These metrics will help us determine the best model, and in turn allow us to recommend the best beer for you."
   ]
  },
  {
   "cell_type": "markdown",
   "id": "695b25b3",
   "metadata": {},
   "source": [
    "# Background\n",
    "Our research problem is pretty unique in that researches don’t look into a topic like this. Mostly, this is because this topic is not super important to globalization and technological improvements. There are some works that are similar in topic, but none are academic. \n",
    "\n",
    "One way people use this dataset is to research the types of preferences people have in beer, things like how much foam a person wants, how much alcohol percentage is in the drink, etc. This mostly is used for improving the sales of beer and crafting the best drink. <sup>[1](#preferences)</sup>\n",
    "\n",
    "Others have used beer reviews as a way for classification, being easily able to classify a beer into some categories for ease and also increases sales. <sup>[2](#classification)</sup>\n",
    "\n",
    "A similar drink to beer is wine, and they are experimenting with computer vision to find when the optimal time is to use the ingredients, aka harvesting the grapes. A similar application can be used on barley, the ingredient to make beer. <sup>[3](#beer)</sup>"
   ]
  },
  {
   "cell_type": "markdown",
   "id": "3e3c0ee7",
   "metadata": {},
   "source": [
    "# Problem Statement/Research Problem\n",
    "We aim to suggest the best beer for you based upon common beer preferences; things such as alcohol level, appearence, bitterness, etc. In the process of doing this, we will also aim to predict ratings on a scale 1-5, based upon these preferences; which can be replicated through our model architecture (there is no randomness). This problem is both quantifiable (as our predicted ratings we can get a definite number), and also measurable, through our error metrics that we present below."
   ]
  },
  {
   "cell_type": "markdown",
   "id": "39ab7345",
   "metadata": {},
   "source": [
    "# Dataset\n",
    "\n",
    "https://www.kaggle.com/datasets/rdoume/beerreviews\n",
    "This dataset can be found above at the link provided. It around 1.5 million beer reviews, and 13 total features. Each sample will consist of something similar to the name of the drink, a few columns representing the preferences of beers like alcohol level, and then the overall review rating. For our data, we need preprocess by filtering out useless columns and also selecting columns that can easily fit into our neural network architecture (for example getting columns that are integers/floats). Additionally, we will also have to one hot encode features that are important but categorical variables, for instance beer style. We also should drop any sample that is empty in the columns that we find useful.\n",
    "\n",
    "To create our training set and test set, we need to first extract the overall rating score from the dataset as our y values (labels). Then, we extract all the columns that we find important and use that as our X. Then we can use test_train split to get the necessary proportions for our model to be generalizable. We can also split into a validation set, because we have so much data. Something to note is that our labels (y) are on a scale from 1-5, with increments of 0.5. This will affect our model selection later.\n",
    "\n",
    "Below, you will be able to see how we pre processed our data."
   ]
  },
  {
   "cell_type": "code",
   "execution_count": 1,
   "id": "44eb03d7",
   "metadata": {},
   "outputs": [
    {
     "name": "stderr",
     "output_type": "stream",
     "text": [
      "2023-03-09 22:49:35.399896: I tensorflow/core/platform/cpu_feature_guard.cc:193] This TensorFlow binary is optimized with oneAPI Deep Neural Network Library (oneDNN) to use the following CPU instructions in performance-critical operations:  AVX2 FMA\n",
      "To enable them in other operations, rebuild TensorFlow with the appropriate compiler flags.\n",
      "2023-03-09 22:49:35.569021: W tensorflow/compiler/xla/stream_executor/platform/default/dso_loader.cc:64] Could not load dynamic library 'libcudart.so.11.0'; dlerror: libcudart.so.11.0: cannot open shared object file: No such file or directory\n",
      "2023-03-09 22:49:35.569063: I tensorflow/compiler/xla/stream_executor/cuda/cudart_stub.cc:29] Ignore above cudart dlerror if you do not have a GPU set up on your machine.\n",
      "2023-03-09 22:49:37.376420: W tensorflow/compiler/xla/stream_executor/platform/default/dso_loader.cc:64] Could not load dynamic library 'libnvinfer.so.7'; dlerror: libnvinfer.so.7: cannot open shared object file: No such file or directory\n",
      "2023-03-09 22:49:37.376624: W tensorflow/compiler/xla/stream_executor/platform/default/dso_loader.cc:64] Could not load dynamic library 'libnvinfer_plugin.so.7'; dlerror: libnvinfer_plugin.so.7: cannot open shared object file: No such file or directory\n",
      "2023-03-09 22:49:37.376672: W tensorflow/compiler/tf2tensorrt/utils/py_utils.cc:38] TF-TRT Warning: Cannot dlopen some TensorRT libraries. If you would like to use Nvidia GPU with TensorRT, please make sure the missing libraries mentioned above are installed properly.\n"
     ]
    }
   ],
   "source": [
    "from sklearn.model_selection import train_test_split\n",
    "import pandas as pd\n",
    "import numpy as np\n",
    "import matplotlib.pyplot as plt\n",
    "import seaborn as sns\n",
    "from tensorflow.keras.models import load_model\n",
    "from sklearn.tree import DecisionTreeRegressor, plot_tree"
   ]
  },
  {
   "cell_type": "code",
   "execution_count": 2,
   "id": "1feedef6",
   "metadata": {},
   "outputs": [],
   "source": [
    "df = pd.read_csv('beer_reviews.csv')"
   ]
  },
  {
   "cell_type": "code",
   "execution_count": 3,
   "id": "643e6076",
   "metadata": {},
   "outputs": [],
   "source": [
    "df = df.dropna()"
   ]
  },
  {
   "cell_type": "code",
   "execution_count": 4,
   "id": "5e5a1b39",
   "metadata": {},
   "outputs": [
    {
     "data": {
      "text/html": [
       "<div>\n",
       "<style scoped>\n",
       "    .dataframe tbody tr th:only-of-type {\n",
       "        vertical-align: middle;\n",
       "    }\n",
       "\n",
       "    .dataframe tbody tr th {\n",
       "        vertical-align: top;\n",
       "    }\n",
       "\n",
       "    .dataframe thead th {\n",
       "        text-align: right;\n",
       "    }\n",
       "</style>\n",
       "<table border=\"1\" class=\"dataframe\">\n",
       "  <thead>\n",
       "    <tr style=\"text-align: right;\">\n",
       "      <th></th>\n",
       "      <th>brewery_id</th>\n",
       "      <th>brewery_name</th>\n",
       "      <th>review_time</th>\n",
       "      <th>review_overall</th>\n",
       "      <th>review_aroma</th>\n",
       "      <th>review_appearance</th>\n",
       "      <th>review_profilename</th>\n",
       "      <th>beer_style</th>\n",
       "      <th>review_palate</th>\n",
       "      <th>review_taste</th>\n",
       "      <th>beer_name</th>\n",
       "      <th>beer_abv</th>\n",
       "      <th>beer_beerid</th>\n",
       "    </tr>\n",
       "  </thead>\n",
       "  <tbody>\n",
       "    <tr>\n",
       "      <th>0</th>\n",
       "      <td>10325</td>\n",
       "      <td>Vecchio Birraio</td>\n",
       "      <td>1234817823</td>\n",
       "      <td>1.5</td>\n",
       "      <td>2.0</td>\n",
       "      <td>2.5</td>\n",
       "      <td>stcules</td>\n",
       "      <td>Hefeweizen</td>\n",
       "      <td>1.5</td>\n",
       "      <td>1.5</td>\n",
       "      <td>Sausa Weizen</td>\n",
       "      <td>5.0</td>\n",
       "      <td>47986</td>\n",
       "    </tr>\n",
       "    <tr>\n",
       "      <th>1</th>\n",
       "      <td>10325</td>\n",
       "      <td>Vecchio Birraio</td>\n",
       "      <td>1235915097</td>\n",
       "      <td>3.0</td>\n",
       "      <td>2.5</td>\n",
       "      <td>3.0</td>\n",
       "      <td>stcules</td>\n",
       "      <td>English Strong Ale</td>\n",
       "      <td>3.0</td>\n",
       "      <td>3.0</td>\n",
       "      <td>Red Moon</td>\n",
       "      <td>6.2</td>\n",
       "      <td>48213</td>\n",
       "    </tr>\n",
       "    <tr>\n",
       "      <th>2</th>\n",
       "      <td>10325</td>\n",
       "      <td>Vecchio Birraio</td>\n",
       "      <td>1235916604</td>\n",
       "      <td>3.0</td>\n",
       "      <td>2.5</td>\n",
       "      <td>3.0</td>\n",
       "      <td>stcules</td>\n",
       "      <td>Foreign / Export Stout</td>\n",
       "      <td>3.0</td>\n",
       "      <td>3.0</td>\n",
       "      <td>Black Horse Black Beer</td>\n",
       "      <td>6.5</td>\n",
       "      <td>48215</td>\n",
       "    </tr>\n",
       "    <tr>\n",
       "      <th>3</th>\n",
       "      <td>10325</td>\n",
       "      <td>Vecchio Birraio</td>\n",
       "      <td>1234725145</td>\n",
       "      <td>3.0</td>\n",
       "      <td>3.0</td>\n",
       "      <td>3.5</td>\n",
       "      <td>stcules</td>\n",
       "      <td>German Pilsener</td>\n",
       "      <td>2.5</td>\n",
       "      <td>3.0</td>\n",
       "      <td>Sausa Pils</td>\n",
       "      <td>5.0</td>\n",
       "      <td>47969</td>\n",
       "    </tr>\n",
       "    <tr>\n",
       "      <th>4</th>\n",
       "      <td>1075</td>\n",
       "      <td>Caldera Brewing Company</td>\n",
       "      <td>1293735206</td>\n",
       "      <td>4.0</td>\n",
       "      <td>4.5</td>\n",
       "      <td>4.0</td>\n",
       "      <td>johnmichaelsen</td>\n",
       "      <td>American Double / Imperial IPA</td>\n",
       "      <td>4.0</td>\n",
       "      <td>4.5</td>\n",
       "      <td>Cauldron DIPA</td>\n",
       "      <td>7.7</td>\n",
       "      <td>64883</td>\n",
       "    </tr>\n",
       "  </tbody>\n",
       "</table>\n",
       "</div>"
      ],
      "text/plain": [
       "   brewery_id             brewery_name  review_time  review_overall  \\\n",
       "0       10325          Vecchio Birraio   1234817823             1.5   \n",
       "1       10325          Vecchio Birraio   1235915097             3.0   \n",
       "2       10325          Vecchio Birraio   1235916604             3.0   \n",
       "3       10325          Vecchio Birraio   1234725145             3.0   \n",
       "4        1075  Caldera Brewing Company   1293735206             4.0   \n",
       "\n",
       "   review_aroma  review_appearance review_profilename  \\\n",
       "0           2.0                2.5            stcules   \n",
       "1           2.5                3.0            stcules   \n",
       "2           2.5                3.0            stcules   \n",
       "3           3.0                3.5            stcules   \n",
       "4           4.5                4.0     johnmichaelsen   \n",
       "\n",
       "                       beer_style  review_palate  review_taste  \\\n",
       "0                      Hefeweizen            1.5           1.5   \n",
       "1              English Strong Ale            3.0           3.0   \n",
       "2          Foreign / Export Stout            3.0           3.0   \n",
       "3                 German Pilsener            2.5           3.0   \n",
       "4  American Double / Imperial IPA            4.0           4.5   \n",
       "\n",
       "                beer_name  beer_abv  beer_beerid  \n",
       "0            Sausa Weizen       5.0        47986  \n",
       "1                Red Moon       6.2        48213  \n",
       "2  Black Horse Black Beer       6.5        48215  \n",
       "3              Sausa Pils       5.0        47969  \n",
       "4           Cauldron DIPA       7.7        64883  "
      ]
     },
     "execution_count": 4,
     "metadata": {},
     "output_type": "execute_result"
    }
   ],
   "source": [
    "df.head()"
   ]
  },
  {
   "cell_type": "markdown",
   "id": "a880592e",
   "metadata": {},
   "source": [
    "Creating a beer dictionary to pull up the names later.\n"
   ]
  },
  {
   "cell_type": "code",
   "execution_count": 5,
   "id": "bb22eff5",
   "metadata": {},
   "outputs": [],
   "source": [
    "beer_dict = dict(zip(df['beer_beerid'],df['beer_name']))"
   ]
  },
  {
   "cell_type": "markdown",
   "id": "18c45d93",
   "metadata": {},
   "source": [
    "Getting the true review score"
   ]
  },
  {
   "cell_type": "code",
   "execution_count": 6,
   "id": "f23cdbf9",
   "metadata": {},
   "outputs": [],
   "source": [
    "y = df.loc[:, 'review_overall']"
   ]
  },
  {
   "cell_type": "markdown",
   "id": "db7bd6e6",
   "metadata": {},
   "source": [
    "We can see that all the labels are on a scale of 1-5, incrementing by 0.5."
   ]
  },
  {
   "cell_type": "code",
   "execution_count": 7,
   "id": "b33a54e7",
   "metadata": {},
   "outputs": [
    {
     "data": {
      "text/plain": [
       "array([0. , 1. , 1.5, 2. , 2.5, 3. , 3.5, 4. , 4.5, 5. ])"
      ]
     },
     "execution_count": 7,
     "metadata": {},
     "output_type": "execute_result"
    }
   ],
   "source": [
    "np.unique(y)"
   ]
  },
  {
   "cell_type": "markdown",
   "id": "a2769e5f",
   "metadata": {},
   "source": [
    "##### Checking for Bias"
   ]
  },
  {
   "cell_type": "code",
   "execution_count": 8,
   "id": "0db50815",
   "metadata": {},
   "outputs": [
    {
     "data": {
      "text/plain": [
       "<AxesSubplot:xlabel='review_overall', ylabel='count'>"
      ]
     },
     "execution_count": 8,
     "metadata": {},
     "output_type": "execute_result"
    },
    {
     "data": {
      "image/png": "[encoded data removed]",
      "text/plain": [
       "<Figure size 432x288 with 1 Axes>"
      ]
     },
     "metadata": {
      "needs_background": "light"
     },
     "output_type": "display_data"
    }
   ],
   "source": [
    "sns.countplot(x=df['review_overall'],data=df)"
   ]
  },
  {
   "cell_type": "markdown",
   "id": "b24a875a",
   "metadata": {},
   "source": [
    "We can see our data is really skewed, most of the reviews are 4.0,4.5."
   ]
  },
  {
   "cell_type": "code",
   "execution_count": 9,
   "id": "1b06afa1",
   "metadata": {},
   "outputs": [],
   "source": [
    "df = df.drop(['brewery_id','brewery_name','review_time','review_profilename', 'beer_name','review_overall'],axis=1)"
   ]
  },
  {
   "cell_type": "markdown",
   "id": "48b44bc9",
   "metadata": {},
   "source": [
    "Need to one hot encode beer style"
   ]
  },
  {
   "cell_type": "code",
   "execution_count": 10,
   "id": "5279a21f",
   "metadata": {},
   "outputs": [],
   "source": [
    "one_hot = pd.get_dummies(df['beer_style'])\n",
    "df = pd.concat([df, one_hot], axis=1)\n",
    "X = df.drop('beer_style', axis=1)"
   ]
  },
  {
   "cell_type": "markdown",
   "id": "b5423eb0",
   "metadata": {},
   "source": [
    "Looking at key for one hot:"
   ]
  },
  {
   "cell_type": "code",
   "execution_count": 11,
   "id": "bc766d73",
   "metadata": {},
   "outputs": [
    {
     "data": {
      "text/plain": [
       "['Altbier',\n",
       " 'American Adjunct Lager',\n",
       " 'American Amber / Red Ale',\n",
       " 'American Amber / Red Lager',\n",
       " 'American Barleywine']"
      ]
     },
     "execution_count": 11,
     "metadata": {},
     "output_type": "execute_result"
    }
   ],
   "source": [
    "one_hot = one_hot.columns.tolist()\n",
    "one_hot[:5]"
   ]
  },
  {
   "cell_type": "code",
   "execution_count": 12,
   "id": "59326402",
   "metadata": {},
   "outputs": [
    {
     "data": {
      "text/html": [
       "<div>\n",
       "<style scoped>\n",
       "    .dataframe tbody tr th:only-of-type {\n",
       "        vertical-align: middle;\n",
       "    }\n",
       "\n",
       "    .dataframe tbody tr th {\n",
       "        vertical-align: top;\n",
       "    }\n",
       "\n",
       "    .dataframe thead th {\n",
       "        text-align: right;\n",
       "    }\n",
       "</style>\n",
       "<table border=\"1\" class=\"dataframe\">\n",
       "  <thead>\n",
       "    <tr style=\"text-align: right;\">\n",
       "      <th></th>\n",
       "      <th>review_aroma</th>\n",
       "      <th>review_appearance</th>\n",
       "      <th>review_palate</th>\n",
       "      <th>review_taste</th>\n",
       "      <th>beer_abv</th>\n",
       "      <th>beer_beerid</th>\n",
       "      <th>Altbier</th>\n",
       "      <th>American Adjunct Lager</th>\n",
       "      <th>American Amber / Red Ale</th>\n",
       "      <th>American Amber / Red Lager</th>\n",
       "      <th>...</th>\n",
       "      <th>Scotch Ale / Wee Heavy</th>\n",
       "      <th>Scottish Ale</th>\n",
       "      <th>Scottish Gruit / Ancient Herbed Ale</th>\n",
       "      <th>Smoked Beer</th>\n",
       "      <th>Tripel</th>\n",
       "      <th>Vienna Lager</th>\n",
       "      <th>Weizenbock</th>\n",
       "      <th>Wheatwine</th>\n",
       "      <th>Winter Warmer</th>\n",
       "      <th>Witbier</th>\n",
       "    </tr>\n",
       "  </thead>\n",
       "  <tbody>\n",
       "    <tr>\n",
       "      <th>0</th>\n",
       "      <td>2.0</td>\n",
       "      <td>2.5</td>\n",
       "      <td>1.5</td>\n",
       "      <td>1.5</td>\n",
       "      <td>5.0</td>\n",
       "      <td>47986</td>\n",
       "      <td>0</td>\n",
       "      <td>0</td>\n",
       "      <td>0</td>\n",
       "      <td>0</td>\n",
       "      <td>...</td>\n",
       "      <td>0</td>\n",
       "      <td>0</td>\n",
       "      <td>0</td>\n",
       "      <td>0</td>\n",
       "      <td>0</td>\n",
       "      <td>0</td>\n",
       "      <td>0</td>\n",
       "      <td>0</td>\n",
       "      <td>0</td>\n",
       "      <td>0</td>\n",
       "    </tr>\n",
       "    <tr>\n",
       "      <th>1</th>\n",
       "      <td>2.5</td>\n",
       "      <td>3.0</td>\n",
       "      <td>3.0</td>\n",
       "      <td>3.0</td>\n",
       "      <td>6.2</td>\n",
       "      <td>48213</td>\n",
       "      <td>0</td>\n",
       "      <td>0</td>\n",
       "      <td>0</td>\n",
       "      <td>0</td>\n",
       "      <td>...</td>\n",
       "      <td>0</td>\n",
       "      <td>0</td>\n",
       "      <td>0</td>\n",
       "      <td>0</td>\n",
       "      <td>0</td>\n",
       "      <td>0</td>\n",
       "      <td>0</td>\n",
       "      <td>0</td>\n",
       "      <td>0</td>\n",
       "      <td>0</td>\n",
       "    </tr>\n",
       "    <tr>\n",
       "      <th>2</th>\n",
       "      <td>2.5</td>\n",
       "      <td>3.0</td>\n",
       "      <td>3.0</td>\n",
       "      <td>3.0</td>\n",
       "      <td>6.5</td>\n",
       "      <td>48215</td>\n",
       "      <td>0</td>\n",
       "      <td>0</td>\n",
       "      <td>0</td>\n",
       "      <td>0</td>\n",
       "      <td>...</td>\n",
       "      <td>0</td>\n",
       "      <td>0</td>\n",
       "      <td>0</td>\n",
       "      <td>0</td>\n",
       "      <td>0</td>\n",
       "      <td>0</td>\n",
       "      <td>0</td>\n",
       "      <td>0</td>\n",
       "      <td>0</td>\n",
       "      <td>0</td>\n",
       "    </tr>\n",
       "    <tr>\n",
       "      <th>3</th>\n",
       "      <td>3.0</td>\n",
       "      <td>3.5</td>\n",
       "      <td>2.5</td>\n",
       "      <td>3.0</td>\n",
       "      <td>5.0</td>\n",
       "      <td>47969</td>\n",
       "      <td>0</td>\n",
       "      <td>0</td>\n",
       "      <td>0</td>\n",
       "      <td>0</td>\n",
       "      <td>...</td>\n",
       "      <td>0</td>\n",
       "      <td>0</td>\n",
       "      <td>0</td>\n",
       "      <td>0</td>\n",
       "      <td>0</td>\n",
       "      <td>0</td>\n",
       "      <td>0</td>\n",
       "      <td>0</td>\n",
       "      <td>0</td>\n",
       "      <td>0</td>\n",
       "    </tr>\n",
       "    <tr>\n",
       "      <th>4</th>\n",
       "      <td>4.5</td>\n",
       "      <td>4.0</td>\n",
       "      <td>4.0</td>\n",
       "      <td>4.5</td>\n",
       "      <td>7.7</td>\n",
       "      <td>64883</td>\n",
       "      <td>0</td>\n",
       "      <td>0</td>\n",
       "      <td>0</td>\n",
       "      <td>0</td>\n",
       "      <td>...</td>\n",
       "      <td>0</td>\n",
       "      <td>0</td>\n",
       "      <td>0</td>\n",
       "      <td>0</td>\n",
       "      <td>0</td>\n",
       "      <td>0</td>\n",
       "      <td>0</td>\n",
       "      <td>0</td>\n",
       "      <td>0</td>\n",
       "      <td>0</td>\n",
       "    </tr>\n",
       "  </tbody>\n",
       "</table>\n",
       "<p>5 rows × 110 columns</p>\n",
       "</div>"
      ],
      "text/plain": [
       "   review_aroma  review_appearance  review_palate  review_taste  beer_abv  \\\n",
       "0           2.0                2.5            1.5           1.5       5.0   \n",
       "1           2.5                3.0            3.0           3.0       6.2   \n",
       "2           2.5                3.0            3.0           3.0       6.5   \n",
       "3           3.0                3.5            2.5           3.0       5.0   \n",
       "4           4.5                4.0            4.0           4.5       7.7   \n",
       "\n",
       "   beer_beerid  Altbier  American Adjunct Lager  American Amber / Red Ale  \\\n",
       "0        47986        0                       0                         0   \n",
       "1        48213        0                       0                         0   \n",
       "2        48215        0                       0                         0   \n",
       "3        47969        0                       0                         0   \n",
       "4        64883        0                       0                         0   \n",
       "\n",
       "   American Amber / Red Lager  ...  Scotch Ale / Wee Heavy  Scottish Ale  \\\n",
       "0                           0  ...                       0             0   \n",
       "1                           0  ...                       0             0   \n",
       "2                           0  ...                       0             0   \n",
       "3                           0  ...                       0             0   \n",
       "4                           0  ...                       0             0   \n",
       "\n",
       "   Scottish Gruit / Ancient Herbed Ale  Smoked Beer  Tripel  Vienna Lager  \\\n",
       "0                                    0            0       0             0   \n",
       "1                                    0            0       0             0   \n",
       "2                                    0            0       0             0   \n",
       "3                                    0            0       0             0   \n",
       "4                                    0            0       0             0   \n",
       "\n",
       "   Weizenbock  Wheatwine  Winter Warmer  Witbier  \n",
       "0           0          0              0        0  \n",
       "1           0          0              0        0  \n",
       "2           0          0              0        0  \n",
       "3           0          0              0        0  \n",
       "4           0          0              0        0  \n",
       "\n",
       "[5 rows x 110 columns]"
      ]
     },
     "execution_count": 12,
     "metadata": {},
     "output_type": "execute_result"
    }
   ],
   "source": [
    "X.head()"
   ]
  },
  {
   "cell_type": "code",
   "execution_count": 13,
   "id": "62df54b3",
   "metadata": {},
   "outputs": [
    {
     "data": {
      "text/plain": [
       "review_aroma         float64\n",
       "review_appearance    float64\n",
       "review_palate        float64\n",
       "review_taste         float64\n",
       "beer_abv             float64\n",
       "                      ...   \n",
       "Vienna Lager           uint8\n",
       "Weizenbock             uint8\n",
       "Wheatwine              uint8\n",
       "Winter Warmer          uint8\n",
       "Witbier                uint8\n",
       "Length: 110, dtype: object"
      ]
     },
     "execution_count": 13,
     "metadata": {},
     "output_type": "execute_result"
    }
   ],
   "source": [
    "X.dtypes"
   ]
  },
  {
   "cell_type": "markdown",
   "id": "3ff154be",
   "metadata": {},
   "source": [
    "##### Checking our data for outliers:"
   ]
  },
  {
   "cell_type": "code",
   "execution_count": 14,
   "id": "4f598fe5",
   "metadata": {},
   "outputs": [
    {
     "data": {
      "image/png": "[encoded data removed]",
      "text/plain": [
       "<Figure size 432x288 with 1 Axes>"
      ]
     },
     "metadata": {
      "needs_background": "light"
     },
     "output_type": "display_data"
    },
    {
     "data": {
      "text/plain": [
       "<Figure size 864x864 with 0 Axes>"
      ]
     },
     "metadata": {},
     "output_type": "display_data"
    }
   ],
   "source": [
    "sns.boxplot(data=y);\n",
    "plt.ylabel('Review Score out of 5 stars')\n",
    "plt.figure(figsize=(12,12));\n",
    "plt.show()"
   ]
  },
  {
   "cell_type": "markdown",
   "id": "63bddd24",
   "metadata": {},
   "source": [
    "We can see most of our beer reviews are around 4 stars, which makes sense logically. Most people when rating will just give above average if it is not exceptional or terrible. However, if a beer is terrible, then we can see some outliers in the graph. However, it seems like we don't have too many outliers, so perhaps if we decided to use regularization, we could use L2 regularization instead of L1."
   ]
  },
  {
   "cell_type": "markdown",
   "id": "e3397d5d",
   "metadata": {},
   "source": [
    "##### Some Basic Model Selection\n",
    "\n",
    "In our solution to the research problem, our dataset is huge. We have over 1.5 million samples, which means we can split our data into train, test, and validation. We don't need things like nested cross validation or k-folds, since those are techniques used when data is sparse."
   ]
  },
  {
   "cell_type": "code",
   "execution_count": 15,
   "id": "ad66235e",
   "metadata": {},
   "outputs": [],
   "source": [
    "X_train, X_test, y_train, y_test = train_test_split(X, y, test_size=0.2, random_state=42)\n",
    "X_train, X_val, y_train, y_val = train_test_split(X_train, y_train, test_size=0.25, random_state=42)"
   ]
  },
  {
   "cell_type": "code",
   "execution_count": 16,
   "id": "f6261928",
   "metadata": {},
   "outputs": [],
   "source": [
    "# convert everything to float for ease of use\n",
    "X_train = np.array(X_train, dtype=np.float32)\n",
    "y_train = np.array(y_train, dtype=np.float32)\n",
    "X_val = np.array(X_val, dtype=np.float32)\n",
    "y_val = np.array(y_val, dtype=np.float32)\n",
    "X_test = np.array(X_test, dtype=np.float32)\n",
    "y_test = np.array(y_test, dtype=np.float32)"
   ]
  },
  {
   "cell_type": "markdown",
   "id": "9099f9df",
   "metadata": {},
   "source": [
    "# Proposed Solution:\n",
    "We will first create a baseline decision tree model to get a feel for how it performs. We don't expect this to be great, because it will train slow compared to a neural network and is prone to overfitting since we haven't done any particular model selection on it. However, it will help determine the relationship between features and help select which features are the most important to help other models. \n",
    "\n",
    "From these results, we will create a fully connected neural network, which is useful because it can use backpropogation to fix previous misclassifications. This will make the model much more accurate. \n",
    "\n",
    "Finally, using the neural network, we will create a basic recommendation system that takes input from the user and inputs into our model to predict. We will need to add some logic to return the name of the beer that the model prediction corresponds to."
   ]
  },
  {
   "cell_type": "markdown",
   "id": "5f3f58dd",
   "metadata": {},
   "source": [
    "# Evaluation Metrics:\n",
    "\n",
    "Our model isn't doing any classification, we already know all drinks that we predict are going to be beers. That means things like confusion matricies, F1 score, precision, etc. are not applicable. Instead, we would have to use things like Mean Absolute Error, Root Mean Squared Error, and R2 correlation coefficients to evaluate our models. \n",
    "\n",
    "We will mostly evalute on mean absolute error, because of our prediction rating system. When we make a mistake, we only care how far it is from the true predicted value, not the direction it is in. Therefore, to compute this distance MAE is the best choice."
   ]
  },
  {
   "cell_type": "markdown",
   "id": "652bf3a6",
   "metadata": {},
   "source": [
    "# TODO:\n",
    "\n",
    "- Add baseline model made by another person\n",
    "\n",
    "- TA: we found baseline code, but not sure if we are supposed to copy paste it directly, or should we just post a reference?"
   ]
  },
  {
   "cell_type": "markdown",
   "id": "6486647b",
   "metadata": {},
   "source": [
    "# Preliminary Results:\n",
    "\n",
    "Here, we will train our baseline decision tree and see the results.\n",
    "\n",
    "\n",
    "##### A little behind Model Selection\n",
    "Reasoning behind selecting tree as our baseline model: At this point, we don't know too much about our data; whether there are outliers, missing values, etc. We also have both categorical as well as numerical data. Decision trees can handle all these conditions while also not assuming anything about our data (unlike OLS implementation) and training very quickly. In addition, decision trees allow us to quickly find the most important features, which is information we can use later."
   ]
  },
  {
   "cell_type": "code",
   "execution_count": 17,
   "id": "477410ba",
   "metadata": {},
   "outputs": [],
   "source": [
    "from sklearn.metrics import mean_absolute_error, mean_squared_error, r2_score"
   ]
  },
  {
   "cell_type": "code",
   "execution_count": 18,
   "id": "38ce7273",
   "metadata": {},
   "outputs": [],
   "source": [
    "model = DecisionTreeRegressor(max_depth=3)"
   ]
  },
  {
   "cell_type": "code",
   "execution_count": 19,
   "id": "e0ffaf83",
   "metadata": {},
   "outputs": [
    {
     "data": {
      "text/plain": [
       "DecisionTreeRegressor(max_depth=3)"
      ]
     },
     "execution_count": 19,
     "metadata": {},
     "output_type": "execute_result"
    }
   ],
   "source": [
    "model.fit(X_train,y_train)"
   ]
  },
  {
   "cell_type": "code",
   "execution_count": 20,
   "id": "5721208b",
   "metadata": {},
   "outputs": [
    {
     "data": {
      "text/plain": [
       "('review_taste', 0.985284179045517)"
      ]
     },
     "execution_count": 20,
     "metadata": {},
     "output_type": "execute_result"
    }
   ],
   "source": [
    "feature_importances = model.feature_importances_\n",
    "feature_importances = sorted(zip(X.columns, feature_importances))\n",
    "max(feature_importances)"
   ]
  },
  {
   "cell_type": "markdown",
   "id": "040f4f34",
   "metadata": {},
   "source": [
    "We can see in our model, the most important feature is the taste. However, it is taking way too much percentage, the other columns should have some weight. This is something to consider when we implement our further models."
   ]
  },
  {
   "cell_type": "code",
   "execution_count": 21,
   "id": "eab1746f",
   "metadata": {},
   "outputs": [],
   "source": [
    "y_pred = model.predict(X_val)"
   ]
  },
  {
   "cell_type": "code",
   "execution_count": 22,
   "id": "3f1c13dd",
   "metadata": {},
   "outputs": [
    {
     "data": {
      "text/plain": [
       "array([4.2398467 , 3.6422907 , 3.6422907 , 4.02011732, 4.02011732])"
      ]
     },
     "execution_count": 22,
     "metadata": {},
     "output_type": "execute_result"
    }
   ],
   "source": [
    "y_pred[:5]"
   ]
  },
  {
   "cell_type": "code",
   "execution_count": 23,
   "id": "ea615bfe",
   "metadata": {},
   "outputs": [
    {
     "data": {
      "text/plain": [
       "array([4. , 4.5, 5. , 4. , 4.5], dtype=float32)"
      ]
     },
     "execution_count": 23,
     "metadata": {},
     "output_type": "execute_result"
    }
   ],
   "source": [
    "y_test[:5]"
   ]
  },
  {
   "cell_type": "code",
   "execution_count": 24,
   "id": "6b3bab27",
   "metadata": {},
   "outputs": [
    {
     "data": {
      "text/plain": [
       "0.321302087303361"
      ]
     },
     "execution_count": 24,
     "metadata": {},
     "output_type": "execute_result"
    }
   ],
   "source": [
    "mae = mean_absolute_error(y_val, y_pred)\n",
    "mae"
   ]
  },
  {
   "cell_type": "code",
   "execution_count": 25,
   "id": "0b36b911",
   "metadata": {},
   "outputs": [
    {
     "data": {
      "text/plain": [
       "0.4377291495473541"
      ]
     },
     "execution_count": 25,
     "metadata": {},
     "output_type": "execute_result"
    }
   ],
   "source": [
    "rmse = np.sqrt(mean_squared_error(y_val, y_pred))\n",
    "rmse"
   ]
  },
  {
   "cell_type": "code",
   "execution_count": 26,
   "id": "0311129d",
   "metadata": {},
   "outputs": [
    {
     "data": {
      "text/plain": [
       "0.6262170239566527"
      ]
     },
     "execution_count": 26,
     "metadata": {},
     "output_type": "execute_result"
    }
   ],
   "source": [
    "r2 = r2_score(y_val, y_pred)\n",
    "r2"
   ]
  },
  {
   "cell_type": "markdown",
   "id": "30f88515",
   "metadata": {},
   "source": [
    "As we can see, our own baseline decision tree doesn't perform great, which is why we want to see if we can improve it using a grid search before moving onto a different model."
   ]
  },
  {
   "cell_type": "markdown",
   "id": "bb08b399",
   "metadata": {},
   "source": [
    "#### Randomized Grid Search"
   ]
  },
  {
   "cell_type": "markdown",
   "id": "8724d76b",
   "metadata": {},
   "source": [
    "Our dataset is huge, and we don't want to be training all day, so using a randomized grid search will sacrifice possible performance for speed, which is something we are willing to do."
   ]
  },
  {
   "cell_type": "code",
   "execution_count": 27,
   "id": "8b5a1212",
   "metadata": {},
   "outputs": [],
   "source": [
    "from sklearn.model_selection import RandomizedSearchCV\n",
    "from scipy.stats import randint"
   ]
  },
  {
   "cell_type": "code",
   "execution_count": 28,
   "id": "13e306e9",
   "metadata": {},
   "outputs": [],
   "source": [
    "param_dist = {\"max_depth\": [3, 5, 7, 10],\n",
    "               \"min_samples_split\": randint(2, 20),\n",
    "               \"min_samples_leaf\": randint(1, 20)}"
   ]
  },
  {
   "cell_type": "code",
   "execution_count": 29,
   "id": "d74bbb96",
   "metadata": {},
   "outputs": [],
   "source": [
    "mode = \"none\""
   ]
  },
  {
   "cell_type": "code",
   "execution_count": 30,
   "id": "61e29c37",
   "metadata": {},
   "outputs": [],
   "source": [
    "if mode == \"search\":\n",
    "    model = DecisionTreeRegressor()\n",
    "    random_search = RandomizedSearchCV(model, param_distributions=param_dist, n_iter=10, cv=5, random_state=42, n_jobs=-1)\n",
    "    new_model = random_search.fit(X_train, y_train)\n",
    "    print('Best Score: %s' % new_model.best_score_)\n",
    "    print('Best Hyperparameters: %s' % new_model.best_params_)"
   ]
  },
  {
   "cell_type": "code",
   "execution_count": 31,
   "id": "1386ff42",
   "metadata": {},
   "outputs": [],
   "source": [
    "best_score = 0.677181106120889\n",
    "best_depth = 10\n",
    "best_min_samples_leaf = 12\n",
    "best_min_samples_split = 7"
   ]
  },
  {
   "cell_type": "code",
   "execution_count": 32,
   "id": "2a68eb51",
   "metadata": {},
   "outputs": [
    {
     "data": {
      "text/plain": [
       "DecisionTreeRegressor(max_depth=10, min_samples_leaf=12, min_samples_split=7)"
      ]
     },
     "execution_count": 32,
     "metadata": {},
     "output_type": "execute_result"
    }
   ],
   "source": [
    "tree_model = DecisionTreeRegressor(max_depth=best_depth, min_samples_leaf=best_min_samples_leaf, min_samples_split=best_min_samples_split)\n",
    "tree_model.fit(X_train,y_train)"
   ]
  },
  {
   "cell_type": "code",
   "execution_count": 33,
   "id": "523c5080",
   "metadata": {},
   "outputs": [
    {
     "data": {
      "text/plain": [
       "('review_taste', 0.9154830223114546)"
      ]
     },
     "execution_count": 33,
     "metadata": {},
     "output_type": "execute_result"
    }
   ],
   "source": [
    "feature_importances =tree_model.feature_importances_\n",
    "feature_importances = sorted(zip(X.columns, feature_importances))\n",
    "max(feature_importances)"
   ]
  },
  {
   "cell_type": "code",
   "execution_count": 34,
   "id": "3d9bb8d3",
   "metadata": {},
   "outputs": [],
   "source": [
    "y_pred = tree_model.predict(X_test)"
   ]
  },
  {
   "cell_type": "code",
   "execution_count": 35,
   "id": "e2523b54",
   "metadata": {},
   "outputs": [
    {
     "data": {
      "text/plain": [
       "0.30776884572769525"
      ]
     },
     "execution_count": 35,
     "metadata": {},
     "output_type": "execute_result"
    }
   ],
   "source": [
    "mae = mean_absolute_error(y_test, y_pred)\n",
    "mae"
   ]
  },
  {
   "cell_type": "code",
   "execution_count": 36,
   "id": "d87735df",
   "metadata": {},
   "outputs": [
    {
     "data": {
      "text/plain": [
       "0.4070918625370479"
      ]
     },
     "execution_count": 36,
     "metadata": {},
     "output_type": "execute_result"
    }
   ],
   "source": [
    "rmse = np.sqrt(mean_squared_error(y_test, y_pred))\n",
    "rmse"
   ]
  },
  {
   "cell_type": "code",
   "execution_count": 37,
   "id": "796a0218",
   "metadata": {},
   "outputs": [
    {
     "data": {
      "text/plain": [
       "0.6782295010853543"
      ]
     },
     "execution_count": 37,
     "metadata": {},
     "output_type": "execute_result"
    }
   ],
   "source": [
    "r2 = r2_score(y_test, y_pred)\n",
    "r2"
   ]
  },
  {
   "cell_type": "code",
   "execution_count": 38,
   "id": "180e3719",
   "metadata": {},
   "outputs": [
    {
     "data": {
      "image/png": "[encoded data removed]",
      "text/plain": [
       "<Figure size 432x288 with 1 Axes>"
      ]
     },
     "metadata": {
      "needs_background": "light"
     },
     "output_type": "display_data"
    }
   ],
   "source": [
    "abs_error = np.abs(np.array(y_test) - np.array(y_pred).flatten())\n",
    "plt.hist(abs_error, bins=10, range=(0,3))\n",
    "plt.ylabel('count')\n",
    "plt.xlabel('Error in stars (0-5)')\n",
    "plt.title('Errors represented in stars, tree model')\n",
    "plt.show()"
   ]
  },
  {
   "cell_type": "markdown",
   "id": "9ffdb178",
   "metadata": {},
   "source": [
    "After running our grid search, we actually can see our model performed about 2% better, which is not bad since we only need to serach throught the grid once. Additionally, we can see most of our errors are actually pretty close to 0-0.5 stars, which is really good. Overall, decision trees are a pretty good model choice on this dataset, because it can model nonlinear relationships quite easily since it is not a parametric model."
   ]
  },
  {
   "cell_type": "markdown",
   "id": "65cc4e43",
   "metadata": {},
   "source": [
    "# Ethics/Privacy:\n",
    "\n",
    "There is definitely bias/imbalanced data in this dataset. We say this because as humans, we don't really rate things 0 or 5 on a 0-5 scale. Unless something is super bad or super good, we probably would rate it in between something like 3.5 to 4.5. This can severely affect our model predictions, so we need to take this into account.\n",
    "\n",
    "Further, we need to remove the names of the people that gave the reviews for the beers to preserve anonminity.\n",
    "\n",
    "Additionally, the ratings of some samples may occur when a person is already drunk, causing them to rate much higher or lower than if they were sober. It may also depend on how much fun they had while drunk. This also is sampling error, which we can't do much about."
   ]
  },
  {
   "cell_type": "markdown",
   "id": "92d7a9fd",
   "metadata": {},
   "source": [
    "# Team Expectations\n",
    "\n",
    "* Be available on the weekends to work together if neccessary, otherwise individually complete assigned work during weekday\n",
    "* Inform all team members through group chat on updates/something is pushed to github\n",
    "* Finish all required parts at least 2 days before deadline is due"
   ]
  },
  {
   "cell_type": "markdown",
   "id": "f5f5d3f4",
   "metadata": {},
   "source": [
    "# Project Timeline Proposal\n",
    "\n",
    "\n",
    "| Meeting Date  | Meeting Time| Completed Before Meeting  | Discuss at Meeting |\n",
    "|---|---|---|---|\n",
    "| 2/16  |  1 PM |  Brainstorm topics/questions (all)  | Determine best form of communication; Discuss and decide on final project topic; discuss hypothesis; begin background research | \n",
    "| 2/17  |  10 AM |  Do background research on topic and come up with basic model (George) | Discuss ideal dataset(s) and ethics; draft project proposal | \n",
    "| 2/20  | 10 PM  | Edit, finalize, and submit proposal; Search for datasets (All)  | Assign group members to lead each specific part   |\n",
    "| 3/1  | 6 PM  | Begin Neural Network architecture design/programming(George) | Discuss Analysis Plan   |\n",
    "| 3/4 | 12 PM  | Write recommendation system(George) | Discuss/edit project code; Complete project |\n",
    "| 3/12  | 12 PM  | Draft results/conclusion/discussion (Xinyao/Yingnan)| Discuss/edit full project |\n",
    "| 3/19  | Before 11:59 PM  | NA | Turn in Final Project  |"
   ]
  },
  {
   "cell_type": "markdown",
   "id": "ee593084",
   "metadata": {},
   "source": [
    "# Footnotes"
   ]
  },
  {
   "cell_type": "markdown",
   "id": "fe3f47e3",
   "metadata": {},
   "source": [
    "<a name=\"preferences\">1</a>: AI of Things, one Telefonica Tech´s business unit. “The Use of AI and Machine Learning in the Beer Industry.” Think Big/Business, 18 June 2021, https://business.blogthinkbig.com/the-use-of-ai-and-machine-learning-in-the-beer-industry/. <br>\n",
    "\n",
    "<a name=\"classification\">2</a>: da Costa, Nattane Luíza, et al. “A Review on the Application of Chemometrics and Machine Learning Algorithms to Evaluate Beer Authentication - Food Analytical Methods.” SpringerLink, Springer US, 26 Sept. 2020, https://link.springer.com/article/10.1007/s12161-020-01864-7. \n",
    "\n",
    "\n",
    "<a name=\"beer\">3</a>: Editor, MathWorks. “Making Better Beer and Wine with Data and Machine Learning.” Medium, MathWorks, 23 Sept. 2020, https://medium.com/mathworks/making-better-beer-and-wine-with-data-and-machine-learning-dd04459f53b7. "
   ]
  },
  {
   "cell_type": "markdown",
   "id": "014fabb3",
   "metadata": {},
   "source": [
    "# Fully Connected Neural Network"
   ]
  },
  {
   "cell_type": "code",
   "execution_count": 39,
   "id": "fce7d574",
   "metadata": {},
   "outputs": [],
   "source": [
    "from keras.models import Sequential\n",
    "from keras.layers import Dense, Dropout\n",
    "from tensorflow.keras.optimizers import Adam\n",
    "from keras import regularizers\n",
    "from sklearn.utils.class_weight import compute_class_weight"
   ]
  },
  {
   "cell_type": "markdown",
   "id": "f6bc8d86",
   "metadata": {},
   "source": [
    "If you look at the data section, we found that our ratings/classes are very imbalanced; we need to give the ratings that appear less frequently to have more weight."
   ]
  },
  {
   "cell_type": "code",
   "execution_count": 40,
   "id": "dbcf8913",
   "metadata": {
    "scrolled": true
   },
   "outputs": [
    {
     "name": "stderr",
     "output_type": "stream",
     "text": [
      "/opt/conda/lib/python3.9/site-packages/sklearn/utils/validation.py:70: FutureWarning: Pass classes=[0.  1.  1.5 2.  2.5 3.  3.5 4.  4.5 5. ], y=[4.  3.5 3.5 ... 4.5 3.  4. ] as keyword args. From version 1.0 (renaming of 0.25) passing these as positional arguments will result in an error\n",
      "  warnings.warn(f\"Pass {args_msg} as keyword args. From version \"\n"
     ]
    },
    {
     "data": {
      "text/plain": [
       "{0: 18221.72,\n",
       " 1: 14.845787844223562,\n",
       " 2: 12.497750342935529,\n",
       " 3: 4.252443407234539,\n",
       " 4: 2.7908898759381224,\n",
       " 5: 0.9719494761996202,\n",
       " 6: 0.5301419203174732,\n",
       " 7: 0.2710339370284871,\n",
       " 8: 0.48394320710920363,\n",
       " 9: 1.7006122372792774}"
      ]
     },
     "execution_count": 40,
     "metadata": {},
     "output_type": "execute_result"
    }
   ],
   "source": [
    "class_weights = dict(enumerate(compute_class_weight('balanced', np.unique(y_train), y_train)))\n",
    "class_weights"
   ]
  },
  {
   "cell_type": "code",
   "execution_count": 41,
   "id": "978c787b",
   "metadata": {},
   "outputs": [
    {
     "data": {
      "text/plain": [
       "array([0. , 1. , 1.5, 2. , 2.5, 3. , 3.5, 4. , 4.5, 5. ], dtype=float32)"
      ]
     },
     "execution_count": 41,
     "metadata": {},
     "output_type": "execute_result"
    }
   ],
   "source": [
    "np.unique(y_train)"
   ]
  },
  {
   "cell_type": "code",
   "execution_count": 42,
   "id": "89c1dbe8",
   "metadata": {},
   "outputs": [
    {
     "name": "stderr",
     "output_type": "stream",
     "text": [
      "2023-03-09 22:50:01.433738: W tensorflow/compiler/xla/stream_executor/platform/default/dso_loader.cc:64] Could not load dynamic library 'libcuda.so.1'; dlerror: libcuda.so.1: cannot open shared object file: No such file or directory\n",
      "2023-03-09 22:50:01.433788: W tensorflow/compiler/xla/stream_executor/cuda/cuda_driver.cc:265] failed call to cuInit: UNKNOWN ERROR (303)\n",
      "2023-03-09 22:50:01.433841: I tensorflow/compiler/xla/stream_executor/cuda/cuda_diagnostics.cc:156] kernel driver does not appear to be running on this host (dsmlp-jupyter-g9liu): /proc/driver/nvidia/version does not exist\n",
      "2023-03-09 22:50:01.434165: I tensorflow/core/platform/cpu_feature_guard.cc:193] This TensorFlow binary is optimized with oneAPI Deep Neural Network Library (oneDNN) to use the following CPU instructions in performance-critical operations:  AVX2 FMA\n",
      "To enable them in other operations, rebuild TensorFlow with the appropriate compiler flags.\n"
     ]
    }
   ],
   "source": [
    "model = Sequential()\n",
    "model.add(Dense(64, input_shape=(110,), activation='relu'))\n",
    "model.add(Dense(32, activation='relu'))\n",
    "model.add(Dense(16, activation='relu'))\n",
    "model.add(Dense(8, activation='relu'))\n",
    "model.add(Dense(1, activation='linear'))"
   ]
  },
  {
   "cell_type": "markdown",
   "id": "4f244fbf",
   "metadata": {},
   "source": [
    "### Model Selection on Neural Network\n",
    "\n",
    "Our overall neural network design is a recurrent neural network (sequential). We chose this because of its training efficiency as well as its ability to learn from previous mistakes. The back propogation allows the model to adjust the weights during each iteration. Finally, RNN is super flexible when it comes to input and output shapes. We need this, because we have one hot encoded categorical data; meaning our input is pretty large (hence the 110).\n",
    "\n",
    "Why we choose to use l1 as our regularizer:\n",
    "- actually allows features to have a weight of 0: features like beer_id are important for identification, but should not contribute to the model prediction\n",
    "- robust to outliers compared to l2; after looking at our data, we have some outliers so we want to prevent the model from severely fitting towards those datapoints.\n",
    "\n",
    "From class, we learned that having a low number of hidden layers usually makes the model too simple to learn nonlinear relationships. We do not expect our relationships between all the features to be completely linear, so having a couple hidden layers should allow our data to learn complex relationships without overfitting.\n",
    "\n",
    "Since we are dealing with nonlinear relationships, we should use nonlinear activation functions. Relu is simple and efficient, and allows there to be a gradient everywhere so we can use backpropagation and update weights. In some of our hidden layers, we also use tanh to introduce further nonlinearity.\n",
    "\n",
    "Note: We tried implementing regularization as well as dropout, but because our model not complex enough/fitting well on the training data, it doesn't make sense to implement these techniques because they help generalize the model better, and we don't need that.\n"
   ]
  },
  {
   "cell_type": "code",
   "execution_count": 43,
   "id": "f8b810c1",
   "metadata": {},
   "outputs": [],
   "source": [
    "mode = 'none'\n",
    "save = 'no'"
   ]
  },
  {
   "cell_type": "code",
   "execution_count": 44,
   "id": "27152104",
   "metadata": {},
   "outputs": [],
   "source": [
    "# Compile the model\n",
    "if mode == 'test':\n",
    "    optimizer = Adam(learning_rate=0.01)\n",
    "    #model.compile(optimizer=optimizer, loss='mean_absolute_error')\n",
    "    model.compile(optimizer=optimizer, loss='mean_absolute_error')\n",
    "    model.fit(X_train, y_train, epochs=3, batch_size=32, validation_data=(X_val, y_val), class_weight=class_weights)\n",
    "    if save== 'yes':\n",
    "        model.save(\"beer_nn\")\n",
    "else:\n",
    "    model = load_model('beer_nn')"
   ]
  },
  {
   "cell_type": "code",
   "execution_count": 45,
   "id": "15e24e35",
   "metadata": {},
   "outputs": [
    {
     "name": "stdout",
     "output_type": "stream",
     "text": [
      "9491/9491 [==============================] - 9s 894us/step\n"
     ]
    }
   ],
   "source": [
    "# Evaluate the model on the test set\n",
    "y_pred = model.predict(X_test)"
   ]
  },
  {
   "cell_type": "code",
   "execution_count": 46,
   "id": "caabe87e",
   "metadata": {},
   "outputs": [
    {
     "data": {
      "text/plain": [
       "0.63363636"
      ]
     },
     "execution_count": 46,
     "metadata": {},
     "output_type": "execute_result"
    }
   ],
   "source": [
    "mae = mean_absolute_error(y_test, y_pred)\n",
    "mae"
   ]
  },
  {
   "cell_type": "code",
   "execution_count": 47,
   "id": "8d63f302",
   "metadata": {},
   "outputs": [
    {
     "data": {
      "text/plain": [
       "0.7861386"
      ]
     },
     "execution_count": 47,
     "metadata": {},
     "output_type": "execute_result"
    }
   ],
   "source": [
    "rmse = np.sqrt(mean_squared_error(y_test, y_pred))\n",
    "rmse"
   ]
  },
  {
   "cell_type": "code",
   "execution_count": 48,
   "id": "d189c981",
   "metadata": {},
   "outputs": [
    {
     "data": {
      "text/plain": [
       "-0.19994015184056413"
      ]
     },
     "execution_count": 48,
     "metadata": {},
     "output_type": "execute_result"
    }
   ],
   "source": [
    "r2 = r2_score(y_test, y_pred)\n",
    "r2"
   ]
  },
  {
   "cell_type": "code",
   "execution_count": 49,
   "id": "946d2ce6",
   "metadata": {},
   "outputs": [],
   "source": [
    "abs_error = np.abs(np.array(y_test) - np.array(y_pred).flatten())"
   ]
  },
  {
   "cell_type": "code",
   "execution_count": 50,
   "id": "b453cbf3",
   "metadata": {},
   "outputs": [
    {
     "data": {
      "image/png": "[encoded data removed]",
      "text/plain": [
       "<Figure size 432x288 with 1 Axes>"
      ]
     },
     "metadata": {
      "needs_background": "light"
     },
     "output_type": "display_data"
    }
   ],
   "source": [
    "plt.hist(abs_error, bins=10, range=(0,3))\n",
    "plt.ylabel('count')\n",
    "plt.xlabel('Error in stars (0-5)')\n",
    "plt.title('Errors represented in stars')\n",
    "plt.show()"
   ]
  },
  {
   "cell_type": "markdown",
   "id": "828219e4",
   "metadata": {},
   "source": [
    "We can see our neural network model performs actually worse than our tree model. This probably is due to high overfitting and because our data is nonlinear. As a result, the tree is a much better model since nonlinearity doesn't affect its decisions while our neural network does."
   ]
  },
  {
   "cell_type": "markdown",
   "id": "f62f78e6",
   "metadata": {},
   "source": [
    "Now, let's see what our model determines the most important feature is at each layer."
   ]
  },
  {
   "cell_type": "code",
   "execution_count": 51,
   "id": "0e8ca989",
   "metadata": {},
   "outputs": [],
   "source": [
    "def get_most_important_feature(model,layer:int):\n",
    "    weights = model.layers[layer].get_weights()[0]\n",
    "    most_important_features = np.argmax(weights, axis=0)\n",
    "    return X.columns[np.argmax(most_important_features)], np.max(most_important_features)"
   ]
  },
  {
   "cell_type": "code",
   "execution_count": 52,
   "id": "e50b7550",
   "metadata": {},
   "outputs": [
    {
     "name": "stdout",
     "output_type": "stream",
     "text": [
      "The most heavily weighted feature is Belgian Pale Ale\n"
     ]
    }
   ],
   "source": [
    "feature, _ = get_most_important_feature(model=model,layer=0)\n",
    "print(\"The most heavily weighted feature is\", feature)"
   ]
  },
  {
   "cell_type": "code",
   "execution_count": 53,
   "id": "34872560",
   "metadata": {},
   "outputs": [
    {
     "name": "stdout",
     "output_type": "stream",
     "text": [
      "The most heavily weighted feature is American Stout\n"
     ]
    }
   ],
   "source": [
    "feature, _ = get_most_important_feature(model=model,layer=1)\n",
    "print(\"The most heavily weighted feature is\", feature)"
   ]
  },
  {
   "cell_type": "code",
   "execution_count": 54,
   "id": "b2281d51",
   "metadata": {},
   "outputs": [
    {
     "name": "stdout",
     "output_type": "stream",
     "text": [
      "The most heavily weighted feature at is beer_abv ; the weight is 28\n"
     ]
    }
   ],
   "source": [
    "feature, weight = get_most_important_feature(model=model,layer=2)\n",
    "print(\"The most heavily weighted feature at is\", feature,'; the weight is', weight)"
   ]
  },
  {
   "cell_type": "markdown",
   "id": "ec9cdc8a",
   "metadata": {},
   "source": [
    "We can see at the beginning, something like 'Dunkelweitzen' is the most important feature due to not fully being trained, but by the end, 'beer_abv' is the most important at 28%. This makes sense, because being the alcohol level logically definitely plays apart on your rating (a person will rate it higher/lower depending on if they want to be drunk or not). Additionally, the weight percentage is also more logical than our baseline, where its most heavy weight was 98%. "
   ]
  },
  {
   "cell_type": "markdown",
   "id": "3fc66ebc",
   "metadata": {},
   "source": [
    "# Building Recommendation System From Model "
   ]
  },
  {
   "cell_type": "markdown",
   "id": "d2336516",
   "metadata": {},
   "source": [
    "Choosing to build recommendation system based on our most heavily weighted feature; and predicting from our best model (the tree after grid search)."
   ]
  },
  {
   "cell_type": "code",
   "execution_count": 55,
   "id": "cb3add6d",
   "metadata": {},
   "outputs": [],
   "source": [
    "feature_means = X.mean()"
   ]
  },
  {
   "cell_type": "code",
   "execution_count": 56,
   "id": "7db9905d",
   "metadata": {},
   "outputs": [
    {
     "name": "stdout",
     "output_type": "stream",
     "text": [
      "What alcohol percentage (0-100) do you want? 4\n"
     ]
    }
   ],
   "source": [
    "abv_input = float(input('What alcohol percentage (0-100) do you want? '))"
   ]
  },
  {
   "cell_type": "code",
   "execution_count": 57,
   "id": "aa755819",
   "metadata": {},
   "outputs": [
    {
     "data": {
      "text/plain": [
       "(911086, 110)"
      ]
     },
     "execution_count": 57,
     "metadata": {},
     "output_type": "execute_result"
    }
   ],
   "source": [
    "X_train.shape"
   ]
  },
  {
   "cell_type": "code",
   "execution_count": 58,
   "id": "59b5adcb",
   "metadata": {},
   "outputs": [
    {
     "name": "stdout",
     "output_type": "stream",
     "text": [
      "Predicted beer rating for beers where it has 4.0 % abv level is  4.1202360876897135\n"
     ]
    }
   ],
   "source": [
    "feature_means['beer_abv'] = abv_input\n",
    "user_input = feature_means.values.reshape(1, -1)\n",
    "beer_ratings = tree_model.predict(user_input)[0]\n",
    "print(\"Predicted beer rating for beers where it has\",abv_input,\"% abv level is \",beer_ratings)"
   ]
  },
  {
   "cell_type": "code",
   "execution_count": 59,
   "id": "f0660740",
   "metadata": {},
   "outputs": [
    {
     "name": "stdout",
     "output_type": "stream",
     "text": [
      "You should try Staropramen Lager\n"
     ]
    },
    {
     "name": "stderr",
     "output_type": "stream",
     "text": [
      "/tmp/ipykernel_4365/3238401176.py:4: FutureWarning: The behavior of `series[i:j]` with an integer-dtype index is deprecated. In a future version, this will be treated as *label-based* indexing, consistent with e.g. `series[i]` lookups. To retain the old behavior, use `series.iloc[i:j]`. To get the future behavior, use `series.loc[i:j]`.\n",
      "  df_closest = top_ten.iloc[(top_ten['beer_abv']-abv_input).abs().argsort()[:1]]\n"
     ]
    }
   ],
   "source": [
    "df['rating_difference'] = abs(y - beer_ratings)\n",
    "df = df.sort_values('rating_difference')\n",
    "top_ten=df[:10]\n",
    "df_closest = top_ten.iloc[(top_ten['beer_abv']-abv_input).abs().argsort()[:1]]\n",
    "beer_id = df_closest['beer_beerid'].values[0]\n",
    "beer_name = beer_dict.get(beer_id)\n",
    "print(\"You should try\",beer_name)"
   ]
  },
  {
   "cell_type": "markdown",
   "id": "3e793303",
   "metadata": {},
   "source": [
    "# Conclusion"
   ]
  }
 ],
 "metadata": {
  "kernelspec": {
   "display_name": "Python 3 (ipykernel)",
   "language": "python",
   "name": "python3"
  },
  "language_info": {
   "codemirror_mode": {
    "name": "ipython",
    "version": 3
   },
   "file_extension": ".py",
   "mimetype": "text/x-python",
   "name": "python",
   "nbconvert_exporter": "python",
   "pygments_lexer": "ipython3",
   "version": "3.9.5"
  }
 },
 "nbformat": 4,
 "nbformat_minor": 5
}
